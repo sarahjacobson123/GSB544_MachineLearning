{
  "nbformat": 4,
  "nbformat_minor": 0,
  "metadata": {
    "colab": {
      "provenance": []
    },
    "kernelspec": {
      "name": "python3",
      "display_name": "Python 3"
    },
    "language_info": {
      "name": "python"
    }
  },
  "cells": [
    {
      "cell_type": "markdown",
      "source": [
        "# Palmer Penguins Modeling\n",
        "\n",
        "Import the Palmer Penguins dataset and print out the first few rows.\n",
        "\n",
        "Suppose we want to predict `bill_depth_mm` using the other variables in the dataset.\n",
        "\n",
        "Which variables would we need to **dummify**? We would need to dumify the categorical variables: sex, island, species."
      ],
      "metadata": {
        "id": "M3NFTx_UIZjO"
      }
    },
    {
      "cell_type": "code",
      "source": [
        "!pip install palmerpenguins"
      ],
      "metadata": {
        "colab": {
          "base_uri": "https://localhost:8080/"
        },
        "id": "alGCSQeOEOiM",
        "outputId": "44adf767-ff79-487a-9cd5-72b15cd2149d"
      },
      "execution_count": 1,
      "outputs": [
        {
          "output_type": "stream",
          "name": "stdout",
          "text": [
            "Collecting palmerpenguins\n",
            "  Downloading palmerpenguins-0.1.4-py3-none-any.whl.metadata (2.0 kB)\n",
            "Requirement already satisfied: pandas in /usr/local/lib/python3.10/dist-packages (from palmerpenguins) (2.2.2)\n",
            "Requirement already satisfied: numpy in /usr/local/lib/python3.10/dist-packages (from palmerpenguins) (1.26.4)\n",
            "Requirement already satisfied: python-dateutil>=2.8.2 in /usr/local/lib/python3.10/dist-packages (from pandas->palmerpenguins) (2.8.2)\n",
            "Requirement already satisfied: pytz>=2020.1 in /usr/local/lib/python3.10/dist-packages (from pandas->palmerpenguins) (2024.2)\n",
            "Requirement already satisfied: tzdata>=2022.7 in /usr/local/lib/python3.10/dist-packages (from pandas->palmerpenguins) (2024.2)\n",
            "Requirement already satisfied: six>=1.5 in /usr/local/lib/python3.10/dist-packages (from python-dateutil>=2.8.2->pandas->palmerpenguins) (1.16.0)\n",
            "Downloading palmerpenguins-0.1.4-py3-none-any.whl (17 kB)\n",
            "Installing collected packages: palmerpenguins\n",
            "Successfully installed palmerpenguins-0.1.4\n"
          ]
        }
      ]
    },
    {
      "cell_type": "code",
      "source": [
        "from palmerpenguins import load_penguins\n",
        "import pandas as pd\n",
        "from sklearn.preprocessing import OneHotEncoder\n",
        "\n",
        "pen = load_penguins()\n",
        "pen.head()"
      ],
      "metadata": {
        "colab": {
          "base_uri": "https://localhost:8080/",
          "height": 206
        },
        "id": "G9tJtlYrFThT",
        "outputId": "b46bc8f5-4f7f-4a56-c515-4ff914909919"
      },
      "execution_count": 2,
      "outputs": [
        {
          "output_type": "execute_result",
          "data": {
            "text/plain": [
              "  species     island  bill_length_mm  bill_depth_mm  flipper_length_mm  \\\n",
              "0  Adelie  Torgersen            39.1           18.7              181.0   \n",
              "1  Adelie  Torgersen            39.5           17.4              186.0   \n",
              "2  Adelie  Torgersen            40.3           18.0              195.0   \n",
              "3  Adelie  Torgersen             NaN            NaN                NaN   \n",
              "4  Adelie  Torgersen            36.7           19.3              193.0   \n",
              "\n",
              "   body_mass_g     sex  year  \n",
              "0       3750.0    male  2007  \n",
              "1       3800.0  female  2007  \n",
              "2       3250.0  female  2007  \n",
              "3          NaN     NaN  2007  \n",
              "4       3450.0  female  2007  "
            ],
            "text/html": [
              "\n",
              "  <div id=\"df-a87fb812-9a63-4ede-a046-0c241eb92b3d\" class=\"colab-df-container\">\n",
              "    <div>\n",
              "<style scoped>\n",
              "    .dataframe tbody tr th:only-of-type {\n",
              "        vertical-align: middle;\n",
              "    }\n",
              "\n",
              "    .dataframe tbody tr th {\n",
              "        vertical-align: top;\n",
              "    }\n",
              "\n",
              "    .dataframe thead th {\n",
              "        text-align: right;\n",
              "    }\n",
              "</style>\n",
              "<table border=\"1\" class=\"dataframe\">\n",
              "  <thead>\n",
              "    <tr style=\"text-align: right;\">\n",
              "      <th></th>\n",
              "      <th>species</th>\n",
              "      <th>island</th>\n",
              "      <th>bill_length_mm</th>\n",
              "      <th>bill_depth_mm</th>\n",
              "      <th>flipper_length_mm</th>\n",
              "      <th>body_mass_g</th>\n",
              "      <th>sex</th>\n",
              "      <th>year</th>\n",
              "    </tr>\n",
              "  </thead>\n",
              "  <tbody>\n",
              "    <tr>\n",
              "      <th>0</th>\n",
              "      <td>Adelie</td>\n",
              "      <td>Torgersen</td>\n",
              "      <td>39.1</td>\n",
              "      <td>18.7</td>\n",
              "      <td>181.0</td>\n",
              "      <td>3750.0</td>\n",
              "      <td>male</td>\n",
              "      <td>2007</td>\n",
              "    </tr>\n",
              "    <tr>\n",
              "      <th>1</th>\n",
              "      <td>Adelie</td>\n",
              "      <td>Torgersen</td>\n",
              "      <td>39.5</td>\n",
              "      <td>17.4</td>\n",
              "      <td>186.0</td>\n",
              "      <td>3800.0</td>\n",
              "      <td>female</td>\n",
              "      <td>2007</td>\n",
              "    </tr>\n",
              "    <tr>\n",
              "      <th>2</th>\n",
              "      <td>Adelie</td>\n",
              "      <td>Torgersen</td>\n",
              "      <td>40.3</td>\n",
              "      <td>18.0</td>\n",
              "      <td>195.0</td>\n",
              "      <td>3250.0</td>\n",
              "      <td>female</td>\n",
              "      <td>2007</td>\n",
              "    </tr>\n",
              "    <tr>\n",
              "      <th>3</th>\n",
              "      <td>Adelie</td>\n",
              "      <td>Torgersen</td>\n",
              "      <td>NaN</td>\n",
              "      <td>NaN</td>\n",
              "      <td>NaN</td>\n",
              "      <td>NaN</td>\n",
              "      <td>NaN</td>\n",
              "      <td>2007</td>\n",
              "    </tr>\n",
              "    <tr>\n",
              "      <th>4</th>\n",
              "      <td>Adelie</td>\n",
              "      <td>Torgersen</td>\n",
              "      <td>36.7</td>\n",
              "      <td>19.3</td>\n",
              "      <td>193.0</td>\n",
              "      <td>3450.0</td>\n",
              "      <td>female</td>\n",
              "      <td>2007</td>\n",
              "    </tr>\n",
              "  </tbody>\n",
              "</table>\n",
              "</div>\n",
              "    <div class=\"colab-df-buttons\">\n",
              "\n",
              "  <div class=\"colab-df-container\">\n",
              "    <button class=\"colab-df-convert\" onclick=\"convertToInteractive('df-a87fb812-9a63-4ede-a046-0c241eb92b3d')\"\n",
              "            title=\"Convert this dataframe to an interactive table.\"\n",
              "            style=\"display:none;\">\n",
              "\n",
              "  <svg xmlns=\"http://www.w3.org/2000/svg\" height=\"24px\" viewBox=\"0 -960 960 960\">\n",
              "    <path d=\"M120-120v-720h720v720H120Zm60-500h600v-160H180v160Zm220 220h160v-160H400v160Zm0 220h160v-160H400v160ZM180-400h160v-160H180v160Zm440 0h160v-160H620v160ZM180-180h160v-160H180v160Zm440 0h160v-160H620v160Z\"/>\n",
              "  </svg>\n",
              "    </button>\n",
              "\n",
              "  <style>\n",
              "    .colab-df-container {\n",
              "      display:flex;\n",
              "      gap: 12px;\n",
              "    }\n",
              "\n",
              "    .colab-df-convert {\n",
              "      background-color: #E8F0FE;\n",
              "      border: none;\n",
              "      border-radius: 50%;\n",
              "      cursor: pointer;\n",
              "      display: none;\n",
              "      fill: #1967D2;\n",
              "      height: 32px;\n",
              "      padding: 0 0 0 0;\n",
              "      width: 32px;\n",
              "    }\n",
              "\n",
              "    .colab-df-convert:hover {\n",
              "      background-color: #E2EBFA;\n",
              "      box-shadow: 0px 1px 2px rgba(60, 64, 67, 0.3), 0px 1px 3px 1px rgba(60, 64, 67, 0.15);\n",
              "      fill: #174EA6;\n",
              "    }\n",
              "\n",
              "    .colab-df-buttons div {\n",
              "      margin-bottom: 4px;\n",
              "    }\n",
              "\n",
              "    [theme=dark] .colab-df-convert {\n",
              "      background-color: #3B4455;\n",
              "      fill: #D2E3FC;\n",
              "    }\n",
              "\n",
              "    [theme=dark] .colab-df-convert:hover {\n",
              "      background-color: #434B5C;\n",
              "      box-shadow: 0px 1px 3px 1px rgba(0, 0, 0, 0.15);\n",
              "      filter: drop-shadow(0px 1px 2px rgba(0, 0, 0, 0.3));\n",
              "      fill: #FFFFFF;\n",
              "    }\n",
              "  </style>\n",
              "\n",
              "    <script>\n",
              "      const buttonEl =\n",
              "        document.querySelector('#df-a87fb812-9a63-4ede-a046-0c241eb92b3d button.colab-df-convert');\n",
              "      buttonEl.style.display =\n",
              "        google.colab.kernel.accessAllowed ? 'block' : 'none';\n",
              "\n",
              "      async function convertToInteractive(key) {\n",
              "        const element = document.querySelector('#df-a87fb812-9a63-4ede-a046-0c241eb92b3d');\n",
              "        const dataTable =\n",
              "          await google.colab.kernel.invokeFunction('convertToInteractive',\n",
              "                                                    [key], {});\n",
              "        if (!dataTable) return;\n",
              "\n",
              "        const docLinkHtml = 'Like what you see? Visit the ' +\n",
              "          '<a target=\"_blank\" href=https://colab.research.google.com/notebooks/data_table.ipynb>data table notebook</a>'\n",
              "          + ' to learn more about interactive tables.';\n",
              "        element.innerHTML = '';\n",
              "        dataTable['output_type'] = 'display_data';\n",
              "        await google.colab.output.renderOutput(dataTable, element);\n",
              "        const docLink = document.createElement('div');\n",
              "        docLink.innerHTML = docLinkHtml;\n",
              "        element.appendChild(docLink);\n",
              "      }\n",
              "    </script>\n",
              "  </div>\n",
              "\n",
              "\n",
              "<div id=\"df-1c6db8f0-34f4-4ec0-8f43-2e248826d493\">\n",
              "  <button class=\"colab-df-quickchart\" onclick=\"quickchart('df-1c6db8f0-34f4-4ec0-8f43-2e248826d493')\"\n",
              "            title=\"Suggest charts\"\n",
              "            style=\"display:none;\">\n",
              "\n",
              "<svg xmlns=\"http://www.w3.org/2000/svg\" height=\"24px\"viewBox=\"0 0 24 24\"\n",
              "     width=\"24px\">\n",
              "    <g>\n",
              "        <path d=\"M19 3H5c-1.1 0-2 .9-2 2v14c0 1.1.9 2 2 2h14c1.1 0 2-.9 2-2V5c0-1.1-.9-2-2-2zM9 17H7v-7h2v7zm4 0h-2V7h2v10zm4 0h-2v-4h2v4z\"/>\n",
              "    </g>\n",
              "</svg>\n",
              "  </button>\n",
              "\n",
              "<style>\n",
              "  .colab-df-quickchart {\n",
              "      --bg-color: #E8F0FE;\n",
              "      --fill-color: #1967D2;\n",
              "      --hover-bg-color: #E2EBFA;\n",
              "      --hover-fill-color: #174EA6;\n",
              "      --disabled-fill-color: #AAA;\n",
              "      --disabled-bg-color: #DDD;\n",
              "  }\n",
              "\n",
              "  [theme=dark] .colab-df-quickchart {\n",
              "      --bg-color: #3B4455;\n",
              "      --fill-color: #D2E3FC;\n",
              "      --hover-bg-color: #434B5C;\n",
              "      --hover-fill-color: #FFFFFF;\n",
              "      --disabled-bg-color: #3B4455;\n",
              "      --disabled-fill-color: #666;\n",
              "  }\n",
              "\n",
              "  .colab-df-quickchart {\n",
              "    background-color: var(--bg-color);\n",
              "    border: none;\n",
              "    border-radius: 50%;\n",
              "    cursor: pointer;\n",
              "    display: none;\n",
              "    fill: var(--fill-color);\n",
              "    height: 32px;\n",
              "    padding: 0;\n",
              "    width: 32px;\n",
              "  }\n",
              "\n",
              "  .colab-df-quickchart:hover {\n",
              "    background-color: var(--hover-bg-color);\n",
              "    box-shadow: 0 1px 2px rgba(60, 64, 67, 0.3), 0 1px 3px 1px rgba(60, 64, 67, 0.15);\n",
              "    fill: var(--button-hover-fill-color);\n",
              "  }\n",
              "\n",
              "  .colab-df-quickchart-complete:disabled,\n",
              "  .colab-df-quickchart-complete:disabled:hover {\n",
              "    background-color: var(--disabled-bg-color);\n",
              "    fill: var(--disabled-fill-color);\n",
              "    box-shadow: none;\n",
              "  }\n",
              "\n",
              "  .colab-df-spinner {\n",
              "    border: 2px solid var(--fill-color);\n",
              "    border-color: transparent;\n",
              "    border-bottom-color: var(--fill-color);\n",
              "    animation:\n",
              "      spin 1s steps(1) infinite;\n",
              "  }\n",
              "\n",
              "  @keyframes spin {\n",
              "    0% {\n",
              "      border-color: transparent;\n",
              "      border-bottom-color: var(--fill-color);\n",
              "      border-left-color: var(--fill-color);\n",
              "    }\n",
              "    20% {\n",
              "      border-color: transparent;\n",
              "      border-left-color: var(--fill-color);\n",
              "      border-top-color: var(--fill-color);\n",
              "    }\n",
              "    30% {\n",
              "      border-color: transparent;\n",
              "      border-left-color: var(--fill-color);\n",
              "      border-top-color: var(--fill-color);\n",
              "      border-right-color: var(--fill-color);\n",
              "    }\n",
              "    40% {\n",
              "      border-color: transparent;\n",
              "      border-right-color: var(--fill-color);\n",
              "      border-top-color: var(--fill-color);\n",
              "    }\n",
              "    60% {\n",
              "      border-color: transparent;\n",
              "      border-right-color: var(--fill-color);\n",
              "    }\n",
              "    80% {\n",
              "      border-color: transparent;\n",
              "      border-right-color: var(--fill-color);\n",
              "      border-bottom-color: var(--fill-color);\n",
              "    }\n",
              "    90% {\n",
              "      border-color: transparent;\n",
              "      border-bottom-color: var(--fill-color);\n",
              "    }\n",
              "  }\n",
              "</style>\n",
              "\n",
              "  <script>\n",
              "    async function quickchart(key) {\n",
              "      const quickchartButtonEl =\n",
              "        document.querySelector('#' + key + ' button');\n",
              "      quickchartButtonEl.disabled = true;  // To prevent multiple clicks.\n",
              "      quickchartButtonEl.classList.add('colab-df-spinner');\n",
              "      try {\n",
              "        const charts = await google.colab.kernel.invokeFunction(\n",
              "            'suggestCharts', [key], {});\n",
              "      } catch (error) {\n",
              "        console.error('Error during call to suggestCharts:', error);\n",
              "      }\n",
              "      quickchartButtonEl.classList.remove('colab-df-spinner');\n",
              "      quickchartButtonEl.classList.add('colab-df-quickchart-complete');\n",
              "    }\n",
              "    (() => {\n",
              "      let quickchartButtonEl =\n",
              "        document.querySelector('#df-1c6db8f0-34f4-4ec0-8f43-2e248826d493 button');\n",
              "      quickchartButtonEl.style.display =\n",
              "        google.colab.kernel.accessAllowed ? 'block' : 'none';\n",
              "    })();\n",
              "  </script>\n",
              "</div>\n",
              "\n",
              "    </div>\n",
              "  </div>\n"
            ],
            "application/vnd.google.colaboratory.intrinsic+json": {
              "type": "dataframe",
              "variable_name": "pen",
              "summary": "{\n  \"name\": \"pen\",\n  \"rows\": 344,\n  \"fields\": [\n    {\n      \"column\": \"species\",\n      \"properties\": {\n        \"dtype\": \"category\",\n        \"num_unique_values\": 3,\n        \"samples\": [\n          \"Adelie\",\n          \"Gentoo\",\n          \"Chinstrap\"\n        ],\n        \"semantic_type\": \"\",\n        \"description\": \"\"\n      }\n    },\n    {\n      \"column\": \"island\",\n      \"properties\": {\n        \"dtype\": \"category\",\n        \"num_unique_values\": 3,\n        \"samples\": [\n          \"Torgersen\",\n          \"Biscoe\",\n          \"Dream\"\n        ],\n        \"semantic_type\": \"\",\n        \"description\": \"\"\n      }\n    },\n    {\n      \"column\": \"bill_length_mm\",\n      \"properties\": {\n        \"dtype\": \"number\",\n        \"std\": 5.4595837139265315,\n        \"min\": 32.1,\n        \"max\": 59.6,\n        \"num_unique_values\": 164,\n        \"samples\": [\n          49.4,\n          43.8,\n          43.4\n        ],\n        \"semantic_type\": \"\",\n        \"description\": \"\"\n      }\n    },\n    {\n      \"column\": \"bill_depth_mm\",\n      \"properties\": {\n        \"dtype\": \"number\",\n        \"std\": 1.9747931568167818,\n        \"min\": 13.1,\n        \"max\": 21.5,\n        \"num_unique_values\": 80,\n        \"samples\": [\n          16.9,\n          18.7,\n          18.6\n        ],\n        \"semantic_type\": \"\",\n        \"description\": \"\"\n      }\n    },\n    {\n      \"column\": \"flipper_length_mm\",\n      \"properties\": {\n        \"dtype\": \"number\",\n        \"std\": 14.061713679356888,\n        \"min\": 172.0,\n        \"max\": 231.0,\n        \"num_unique_values\": 55,\n        \"samples\": [\n          201.0,\n          180.0,\n          211.0\n        ],\n        \"semantic_type\": \"\",\n        \"description\": \"\"\n      }\n    },\n    {\n      \"column\": \"body_mass_g\",\n      \"properties\": {\n        \"dtype\": \"number\",\n        \"std\": 801.9545356980958,\n        \"min\": 2700.0,\n        \"max\": 6300.0,\n        \"num_unique_values\": 94,\n        \"samples\": [\n          4350.0,\n          4150.0,\n          5700.0\n        ],\n        \"semantic_type\": \"\",\n        \"description\": \"\"\n      }\n    },\n    {\n      \"column\": \"sex\",\n      \"properties\": {\n        \"dtype\": \"category\",\n        \"num_unique_values\": 2,\n        \"samples\": [\n          \"female\",\n          \"male\"\n        ],\n        \"semantic_type\": \"\",\n        \"description\": \"\"\n      }\n    },\n    {\n      \"column\": \"year\",\n      \"properties\": {\n        \"dtype\": \"number\",\n        \"std\": 0,\n        \"min\": 2007,\n        \"max\": 2009,\n        \"num_unique_values\": 3,\n        \"samples\": [\n          2007,\n          2008\n        ],\n        \"semantic_type\": \"\",\n        \"description\": \"\"\n      }\n    }\n  ]\n}"
            }
          },
          "metadata": {},
          "execution_count": 2
        }
      ]
    },
    {
      "cell_type": "code",
      "source": [
        "#Using get_dummies from pandas library and we are supplying it with a dataframe\n",
        "pd.get_dummies(pen[['species']])\n",
        "\n",
        "#When you give it the entire dataset it dummifies all the categorical variables.\n",
        "#pd.get_dummies(pen)"
      ],
      "metadata": {
        "colab": {
          "base_uri": "https://localhost:8080/",
          "height": 423
        },
        "id": "-p7L9YTWFho1",
        "outputId": "bfd6b322-f7f0-4961-a6bb-fca75d66b248"
      },
      "execution_count": 3,
      "outputs": [
        {
          "output_type": "execute_result",
          "data": {
            "text/plain": [
              "     species_Adelie  species_Chinstrap  species_Gentoo\n",
              "0              True              False           False\n",
              "1              True              False           False\n",
              "2              True              False           False\n",
              "3              True              False           False\n",
              "4              True              False           False\n",
              "..              ...                ...             ...\n",
              "339           False               True           False\n",
              "340           False               True           False\n",
              "341           False               True           False\n",
              "342           False               True           False\n",
              "343           False               True           False\n",
              "\n",
              "[344 rows x 3 columns]"
            ],
            "text/html": [
              "\n",
              "  <div id=\"df-bbc9e8c7-9277-4f83-8621-e868b7622c4b\" class=\"colab-df-container\">\n",
              "    <div>\n",
              "<style scoped>\n",
              "    .dataframe tbody tr th:only-of-type {\n",
              "        vertical-align: middle;\n",
              "    }\n",
              "\n",
              "    .dataframe tbody tr th {\n",
              "        vertical-align: top;\n",
              "    }\n",
              "\n",
              "    .dataframe thead th {\n",
              "        text-align: right;\n",
              "    }\n",
              "</style>\n",
              "<table border=\"1\" class=\"dataframe\">\n",
              "  <thead>\n",
              "    <tr style=\"text-align: right;\">\n",
              "      <th></th>\n",
              "      <th>species_Adelie</th>\n",
              "      <th>species_Chinstrap</th>\n",
              "      <th>species_Gentoo</th>\n",
              "    </tr>\n",
              "  </thead>\n",
              "  <tbody>\n",
              "    <tr>\n",
              "      <th>0</th>\n",
              "      <td>True</td>\n",
              "      <td>False</td>\n",
              "      <td>False</td>\n",
              "    </tr>\n",
              "    <tr>\n",
              "      <th>1</th>\n",
              "      <td>True</td>\n",
              "      <td>False</td>\n",
              "      <td>False</td>\n",
              "    </tr>\n",
              "    <tr>\n",
              "      <th>2</th>\n",
              "      <td>True</td>\n",
              "      <td>False</td>\n",
              "      <td>False</td>\n",
              "    </tr>\n",
              "    <tr>\n",
              "      <th>3</th>\n",
              "      <td>True</td>\n",
              "      <td>False</td>\n",
              "      <td>False</td>\n",
              "    </tr>\n",
              "    <tr>\n",
              "      <th>4</th>\n",
              "      <td>True</td>\n",
              "      <td>False</td>\n",
              "      <td>False</td>\n",
              "    </tr>\n",
              "    <tr>\n",
              "      <th>...</th>\n",
              "      <td>...</td>\n",
              "      <td>...</td>\n",
              "      <td>...</td>\n",
              "    </tr>\n",
              "    <tr>\n",
              "      <th>339</th>\n",
              "      <td>False</td>\n",
              "      <td>True</td>\n",
              "      <td>False</td>\n",
              "    </tr>\n",
              "    <tr>\n",
              "      <th>340</th>\n",
              "      <td>False</td>\n",
              "      <td>True</td>\n",
              "      <td>False</td>\n",
              "    </tr>\n",
              "    <tr>\n",
              "      <th>341</th>\n",
              "      <td>False</td>\n",
              "      <td>True</td>\n",
              "      <td>False</td>\n",
              "    </tr>\n",
              "    <tr>\n",
              "      <th>342</th>\n",
              "      <td>False</td>\n",
              "      <td>True</td>\n",
              "      <td>False</td>\n",
              "    </tr>\n",
              "    <tr>\n",
              "      <th>343</th>\n",
              "      <td>False</td>\n",
              "      <td>True</td>\n",
              "      <td>False</td>\n",
              "    </tr>\n",
              "  </tbody>\n",
              "</table>\n",
              "<p>344 rows × 3 columns</p>\n",
              "</div>\n",
              "    <div class=\"colab-df-buttons\">\n",
              "\n",
              "  <div class=\"colab-df-container\">\n",
              "    <button class=\"colab-df-convert\" onclick=\"convertToInteractive('df-bbc9e8c7-9277-4f83-8621-e868b7622c4b')\"\n",
              "            title=\"Convert this dataframe to an interactive table.\"\n",
              "            style=\"display:none;\">\n",
              "\n",
              "  <svg xmlns=\"http://www.w3.org/2000/svg\" height=\"24px\" viewBox=\"0 -960 960 960\">\n",
              "    <path d=\"M120-120v-720h720v720H120Zm60-500h600v-160H180v160Zm220 220h160v-160H400v160Zm0 220h160v-160H400v160ZM180-400h160v-160H180v160Zm440 0h160v-160H620v160ZM180-180h160v-160H180v160Zm440 0h160v-160H620v160Z\"/>\n",
              "  </svg>\n",
              "    </button>\n",
              "\n",
              "  <style>\n",
              "    .colab-df-container {\n",
              "      display:flex;\n",
              "      gap: 12px;\n",
              "    }\n",
              "\n",
              "    .colab-df-convert {\n",
              "      background-color: #E8F0FE;\n",
              "      border: none;\n",
              "      border-radius: 50%;\n",
              "      cursor: pointer;\n",
              "      display: none;\n",
              "      fill: #1967D2;\n",
              "      height: 32px;\n",
              "      padding: 0 0 0 0;\n",
              "      width: 32px;\n",
              "    }\n",
              "\n",
              "    .colab-df-convert:hover {\n",
              "      background-color: #E2EBFA;\n",
              "      box-shadow: 0px 1px 2px rgba(60, 64, 67, 0.3), 0px 1px 3px 1px rgba(60, 64, 67, 0.15);\n",
              "      fill: #174EA6;\n",
              "    }\n",
              "\n",
              "    .colab-df-buttons div {\n",
              "      margin-bottom: 4px;\n",
              "    }\n",
              "\n",
              "    [theme=dark] .colab-df-convert {\n",
              "      background-color: #3B4455;\n",
              "      fill: #D2E3FC;\n",
              "    }\n",
              "\n",
              "    [theme=dark] .colab-df-convert:hover {\n",
              "      background-color: #434B5C;\n",
              "      box-shadow: 0px 1px 3px 1px rgba(0, 0, 0, 0.15);\n",
              "      filter: drop-shadow(0px 1px 2px rgba(0, 0, 0, 0.3));\n",
              "      fill: #FFFFFF;\n",
              "    }\n",
              "  </style>\n",
              "\n",
              "    <script>\n",
              "      const buttonEl =\n",
              "        document.querySelector('#df-bbc9e8c7-9277-4f83-8621-e868b7622c4b button.colab-df-convert');\n",
              "      buttonEl.style.display =\n",
              "        google.colab.kernel.accessAllowed ? 'block' : 'none';\n",
              "\n",
              "      async function convertToInteractive(key) {\n",
              "        const element = document.querySelector('#df-bbc9e8c7-9277-4f83-8621-e868b7622c4b');\n",
              "        const dataTable =\n",
              "          await google.colab.kernel.invokeFunction('convertToInteractive',\n",
              "                                                    [key], {});\n",
              "        if (!dataTable) return;\n",
              "\n",
              "        const docLinkHtml = 'Like what you see? Visit the ' +\n",
              "          '<a target=\"_blank\" href=https://colab.research.google.com/notebooks/data_table.ipynb>data table notebook</a>'\n",
              "          + ' to learn more about interactive tables.';\n",
              "        element.innerHTML = '';\n",
              "        dataTable['output_type'] = 'display_data';\n",
              "        await google.colab.output.renderOutput(dataTable, element);\n",
              "        const docLink = document.createElement('div');\n",
              "        docLink.innerHTML = docLinkHtml;\n",
              "        element.appendChild(docLink);\n",
              "      }\n",
              "    </script>\n",
              "  </div>\n",
              "\n",
              "\n",
              "<div id=\"df-c63b6590-4192-4920-9434-9648767eb0ad\">\n",
              "  <button class=\"colab-df-quickchart\" onclick=\"quickchart('df-c63b6590-4192-4920-9434-9648767eb0ad')\"\n",
              "            title=\"Suggest charts\"\n",
              "            style=\"display:none;\">\n",
              "\n",
              "<svg xmlns=\"http://www.w3.org/2000/svg\" height=\"24px\"viewBox=\"0 0 24 24\"\n",
              "     width=\"24px\">\n",
              "    <g>\n",
              "        <path d=\"M19 3H5c-1.1 0-2 .9-2 2v14c0 1.1.9 2 2 2h14c1.1 0 2-.9 2-2V5c0-1.1-.9-2-2-2zM9 17H7v-7h2v7zm4 0h-2V7h2v10zm4 0h-2v-4h2v4z\"/>\n",
              "    </g>\n",
              "</svg>\n",
              "  </button>\n",
              "\n",
              "<style>\n",
              "  .colab-df-quickchart {\n",
              "      --bg-color: #E8F0FE;\n",
              "      --fill-color: #1967D2;\n",
              "      --hover-bg-color: #E2EBFA;\n",
              "      --hover-fill-color: #174EA6;\n",
              "      --disabled-fill-color: #AAA;\n",
              "      --disabled-bg-color: #DDD;\n",
              "  }\n",
              "\n",
              "  [theme=dark] .colab-df-quickchart {\n",
              "      --bg-color: #3B4455;\n",
              "      --fill-color: #D2E3FC;\n",
              "      --hover-bg-color: #434B5C;\n",
              "      --hover-fill-color: #FFFFFF;\n",
              "      --disabled-bg-color: #3B4455;\n",
              "      --disabled-fill-color: #666;\n",
              "  }\n",
              "\n",
              "  .colab-df-quickchart {\n",
              "    background-color: var(--bg-color);\n",
              "    border: none;\n",
              "    border-radius: 50%;\n",
              "    cursor: pointer;\n",
              "    display: none;\n",
              "    fill: var(--fill-color);\n",
              "    height: 32px;\n",
              "    padding: 0;\n",
              "    width: 32px;\n",
              "  }\n",
              "\n",
              "  .colab-df-quickchart:hover {\n",
              "    background-color: var(--hover-bg-color);\n",
              "    box-shadow: 0 1px 2px rgba(60, 64, 67, 0.3), 0 1px 3px 1px rgba(60, 64, 67, 0.15);\n",
              "    fill: var(--button-hover-fill-color);\n",
              "  }\n",
              "\n",
              "  .colab-df-quickchart-complete:disabled,\n",
              "  .colab-df-quickchart-complete:disabled:hover {\n",
              "    background-color: var(--disabled-bg-color);\n",
              "    fill: var(--disabled-fill-color);\n",
              "    box-shadow: none;\n",
              "  }\n",
              "\n",
              "  .colab-df-spinner {\n",
              "    border: 2px solid var(--fill-color);\n",
              "    border-color: transparent;\n",
              "    border-bottom-color: var(--fill-color);\n",
              "    animation:\n",
              "      spin 1s steps(1) infinite;\n",
              "  }\n",
              "\n",
              "  @keyframes spin {\n",
              "    0% {\n",
              "      border-color: transparent;\n",
              "      border-bottom-color: var(--fill-color);\n",
              "      border-left-color: var(--fill-color);\n",
              "    }\n",
              "    20% {\n",
              "      border-color: transparent;\n",
              "      border-left-color: var(--fill-color);\n",
              "      border-top-color: var(--fill-color);\n",
              "    }\n",
              "    30% {\n",
              "      border-color: transparent;\n",
              "      border-left-color: var(--fill-color);\n",
              "      border-top-color: var(--fill-color);\n",
              "      border-right-color: var(--fill-color);\n",
              "    }\n",
              "    40% {\n",
              "      border-color: transparent;\n",
              "      border-right-color: var(--fill-color);\n",
              "      border-top-color: var(--fill-color);\n",
              "    }\n",
              "    60% {\n",
              "      border-color: transparent;\n",
              "      border-right-color: var(--fill-color);\n",
              "    }\n",
              "    80% {\n",
              "      border-color: transparent;\n",
              "      border-right-color: var(--fill-color);\n",
              "      border-bottom-color: var(--fill-color);\n",
              "    }\n",
              "    90% {\n",
              "      border-color: transparent;\n",
              "      border-bottom-color: var(--fill-color);\n",
              "    }\n",
              "  }\n",
              "</style>\n",
              "\n",
              "  <script>\n",
              "    async function quickchart(key) {\n",
              "      const quickchartButtonEl =\n",
              "        document.querySelector('#' + key + ' button');\n",
              "      quickchartButtonEl.disabled = true;  // To prevent multiple clicks.\n",
              "      quickchartButtonEl.classList.add('colab-df-spinner');\n",
              "      try {\n",
              "        const charts = await google.colab.kernel.invokeFunction(\n",
              "            'suggestCharts', [key], {});\n",
              "      } catch (error) {\n",
              "        console.error('Error during call to suggestCharts:', error);\n",
              "      }\n",
              "      quickchartButtonEl.classList.remove('colab-df-spinner');\n",
              "      quickchartButtonEl.classList.add('colab-df-quickchart-complete');\n",
              "    }\n",
              "    (() => {\n",
              "      let quickchartButtonEl =\n",
              "        document.querySelector('#df-c63b6590-4192-4920-9434-9648767eb0ad button');\n",
              "      quickchartButtonEl.style.display =\n",
              "        google.colab.kernel.accessAllowed ? 'block' : 'none';\n",
              "    })();\n",
              "  </script>\n",
              "</div>\n",
              "\n",
              "    </div>\n",
              "  </div>\n"
            ],
            "application/vnd.google.colaboratory.intrinsic+json": {
              "type": "dataframe",
              "summary": "{\n  \"name\": \"#pd\",\n  \"rows\": 344,\n  \"fields\": [\n    {\n      \"column\": \"species_Adelie\",\n      \"properties\": {\n        \"dtype\": \"boolean\",\n        \"num_unique_values\": 2,\n        \"samples\": [\n          false,\n          true\n        ],\n        \"semantic_type\": \"\",\n        \"description\": \"\"\n      }\n    },\n    {\n      \"column\": \"species_Chinstrap\",\n      \"properties\": {\n        \"dtype\": \"boolean\",\n        \"num_unique_values\": 2,\n        \"samples\": [\n          true,\n          false\n        ],\n        \"semantic_type\": \"\",\n        \"description\": \"\"\n      }\n    },\n    {\n      \"column\": \"species_Gentoo\",\n      \"properties\": {\n        \"dtype\": \"boolean\",\n        \"num_unique_values\": 2,\n        \"samples\": [\n          true,\n          false\n        ],\n        \"semantic_type\": \"\",\n        \"description\": \"\"\n      }\n    }\n  ]\n}"
            }
          },
          "metadata": {},
          "execution_count": 3
        }
      ]
    },
    {
      "cell_type": "code",
      "source": [
        "enc = OneHotEncoder()\n",
        "\n",
        "enc.fit(pen[['species']]) #Robot learns the categories of specified variable\n",
        "\n",
        "enc.transform(pen[['species']]).toarray() #Transform the categories"
      ],
      "metadata": {
        "colab": {
          "base_uri": "https://localhost:8080/"
        },
        "id": "2xPGnULgGx3R",
        "outputId": "cec3f97c-25a7-4a57-bdcf-12f5b2ebcd1f"
      },
      "execution_count": 4,
      "outputs": [
        {
          "output_type": "execute_result",
          "data": {
            "text/plain": [
              "array([[1., 0., 0.],\n",
              "       [1., 0., 0.],\n",
              "       [1., 0., 0.],\n",
              "       ...,\n",
              "       [0., 1., 0.],\n",
              "       [0., 1., 0.],\n",
              "       [0., 1., 0.]])"
            ]
          },
          "metadata": {},
          "execution_count": 4
        }
      ]
    },
    {
      "cell_type": "code",
      "source": [
        "#If you put in entire dataset it one hot encodes everything\n",
        "enc = OneHotEncoder()\n",
        "\n",
        "enc.fit(pen) #Robot learns the categories of specified variable\n",
        "\n",
        "enc.transform(pen).toarray() #Transform the categories"
      ],
      "metadata": {
        "colab": {
          "base_uri": "https://localhost:8080/"
        },
        "id": "VuiDxFygH3Ge",
        "outputId": "6def691a-e956-47ed-dcf6-176bf6931bdf"
      },
      "execution_count": 5,
      "outputs": [
        {
          "output_type": "execute_result",
          "data": {
            "text/plain": [
              "array([[1., 0., 0., ..., 1., 0., 0.],\n",
              "       [1., 0., 0., ..., 1., 0., 0.],\n",
              "       [1., 0., 0., ..., 1., 0., 0.],\n",
              "       ...,\n",
              "       [0., 1., 0., ..., 0., 0., 1.],\n",
              "       [0., 1., 0., ..., 0., 0., 1.],\n",
              "       [0., 1., 0., ..., 0., 0., 1.]])"
            ]
          },
          "metadata": {},
          "execution_count": 5
        }
      ]
    },
    {
      "cell_type": "code",
      "source": [
        "from sklearn.preprocessing import StandardScaler\n",
        "\n",
        "scaler = StandardScaler()\n",
        "\n",
        "scaler.fit_transform(pen[['bill_length_mm']])"
      ],
      "metadata": {
        "colab": {
          "base_uri": "https://localhost:8080/"
        },
        "id": "pXBwwnj7Ek9H",
        "outputId": "f2fbf4aa-8834-4855-c078-2cd5d4aec787"
      },
      "execution_count": 6,
      "outputs": [
        {
          "output_type": "execute_result",
          "data": {
            "text/plain": [
              "array([[-0.88449874],\n",
              "       [-0.81112573],\n",
              "       [-0.66437972],\n",
              "       [        nan],\n",
              "       [-1.32473679],\n",
              "       [-0.84781224],\n",
              "       [-0.92118525],\n",
              "       [-0.86615549],\n",
              "       [-1.80166135],\n",
              "       [-0.35254443],\n",
              "       [-1.12296102],\n",
              "       [-1.12296102],\n",
              "       [-0.5176337 ],\n",
              "       [-0.976215  ],\n",
              "       [-1.70994508],\n",
              "       [-1.34308004],\n",
              "       [-0.95787175],\n",
              "       [-0.26082817],\n",
              "       [-1.74663159],\n",
              "       [ 0.38118565],\n",
              "       [-1.12296102],\n",
              "       [-1.14130427],\n",
              "       [-1.47148281],\n",
              "       [-1.04958801],\n",
              "       [-0.9395285 ],\n",
              "       [-1.58154232],\n",
              "       [-0.60934996],\n",
              "       [-0.62769321],\n",
              "       [-1.10461777],\n",
              "       [-0.62769321],\n",
              "       [-0.81112573],\n",
              "       [-1.23302053],\n",
              "       [-0.81112573],\n",
              "       [-0.5543202 ],\n",
              "       [-1.37976655],\n",
              "       [-0.86615549],\n",
              "       [-0.9395285 ],\n",
              "       [-0.31585793],\n",
              "       [-1.15964752],\n",
              "       [-0.75609598],\n",
              "       [-1.3614233 ],\n",
              "       [-0.57266346],\n",
              "       [-1.45313956],\n",
              "       [ 0.03266386],\n",
              "       [-1.26970704],\n",
              "       [-0.79278248],\n",
              "       [-0.5176337 ],\n",
              "       [-1.17799078],\n",
              "       [-1.45313956],\n",
              "       [-0.29751468],\n",
              "       [-0.79278248],\n",
              "       [-0.70106622],\n",
              "       [-1.63657208],\n",
              "       [-0.35254443],\n",
              "       [-1.72828834],\n",
              "       [-0.46260394],\n",
              "       [-0.90284199],\n",
              "       [-0.60934996],\n",
              "       [-1.3614233 ],\n",
              "       [-1.15964752],\n",
              "       [-1.50816931],\n",
              "       [-0.4809472 ],\n",
              "       [-1.15964752],\n",
              "       [-0.5176337 ],\n",
              "       [-1.37976655],\n",
              "       [-0.42591744],\n",
              "       [-1.54485582],\n",
              "       [-0.5176337 ],\n",
              "       [-1.47148281],\n",
              "       [-0.38923094],\n",
              "       [-1.91172086],\n",
              "       [-0.77443923],\n",
              "       [-0.79278248],\n",
              "       [ 0.34449915],\n",
              "       [-1.54485582],\n",
              "       [-0.20579842],\n",
              "       [-0.5543202 ],\n",
              "       [-1.23302053],\n",
              "       [-1.41645305],\n",
              "       [-0.33420118],\n",
              "       [-1.70994508],\n",
              "       [-0.18745516],\n",
              "       [-1.32473679],\n",
              "       [-1.61822882],\n",
              "       [-1.21467728],\n",
              "       [-0.4809472 ],\n",
              "       [-1.3981098 ],\n",
              "       [-1.28805029],\n",
              "       [-1.03124476],\n",
              "       [-0.92118525],\n",
              "       [-1.50816931],\n",
              "       [-0.5176337 ],\n",
              "       [-1.8200046 ],\n",
              "       [-0.79278248],\n",
              "       [-1.41645305],\n",
              "       [-0.57266346],\n",
              "       [-1.06793126],\n",
              "       [-0.66437972],\n",
              "       [-1.98509387],\n",
              "       [-0.13242541],\n",
              "       [-1.63657208],\n",
              "       [-0.53597695],\n",
              "       [-1.14130427],\n",
              "       [-1.12296102],\n",
              "       [-1.10461777],\n",
              "       [-0.77443923],\n",
              "       [-0.976215  ],\n",
              "       [-1.04958801],\n",
              "       [-1.06793126],\n",
              "       [-0.13242541],\n",
              "       [-1.06793126],\n",
              "       [ 0.30781264],\n",
              "       [-0.77443923],\n",
              "       [-0.31585793],\n",
              "       [-0.79278248],\n",
              "       [-0.22414167],\n",
              "       [-0.976215  ],\n",
              "       [-1.21467728],\n",
              "       [-1.50816931],\n",
              "       [-0.5176337 ],\n",
              "       [-1.41645305],\n",
              "       [-1.14130427],\n",
              "       [-0.68272297],\n",
              "       [-0.46260394],\n",
              "       [-1.59988557],\n",
              "       [-0.60934996],\n",
              "       [-0.9395285 ],\n",
              "       [-0.44426069],\n",
              "       [-0.90284199],\n",
              "       [ 0.03266386],\n",
              "       [-0.99455825],\n",
              "       [-0.15076866],\n",
              "       [-1.30639354],\n",
              "       [-1.17799078],\n",
              "       [-1.06793126],\n",
              "       [-0.5176337 ],\n",
              "       [-1.52651256],\n",
              "       [-0.68272297],\n",
              "       [-1.26970704],\n",
              "       [-0.77443923],\n",
              "       [-0.68272297],\n",
              "       [-0.60934996],\n",
              "       [-2.16852639],\n",
              "       [-0.59100671],\n",
              "       [-1.21467728],\n",
              "       [-0.90284199],\n",
              "       [-0.86615549],\n",
              "       [-1.34308004],\n",
              "       [-1.45313956],\n",
              "       [-1.12296102],\n",
              "       [-1.45313956],\n",
              "       [-0.44426069],\n",
              "       [ 0.3995289 ],\n",
              "       [ 1.11491573],\n",
              "       [ 0.87645346],\n",
              "       [ 1.11491573],\n",
              "       [ 0.67467768],\n",
              "       [ 0.47290191],\n",
              "       [ 0.27112614],\n",
              "       [ 0.50958841],\n",
              "       [-0.11408216],\n",
              "       [ 0.52793167],\n",
              "       [-0.5543202 ],\n",
              "       [ 0.93148321],\n",
              "       [ 0.28946939],\n",
              "       [ 0.8214237 ],\n",
              "       [ 0.34449915],\n",
              "       [ 0.98651297],\n",
              "       [-0.35254443],\n",
              "       [ 0.96816972],\n",
              "       [ 0.41787215],\n",
              "       [ 0.87645346],\n",
              "       [ 1.15160224],\n",
              "       [ 0.21609638],\n",
              "       [ 0.47290191],\n",
              "       [ 0.43621541],\n",
              "       [-0.18745516],\n",
              "       [ 0.3995289 ],\n",
              "       [ 0.10603687],\n",
              "       [ 0.71136419],\n",
              "       [ 0.7847372 ],\n",
              "       [ 1.11491573],\n",
              "       [ 0.61964793],\n",
              "       [-0.20579842],\n",
              "       [ 0.21609638],\n",
              "       [ 2.87586793],\n",
              "       [ 0.94982646],\n",
              "       [ 0.8214237 ],\n",
              "       [-0.24248492],\n",
              "       [ 0.08769362],\n",
              "       [ 0.01432061],\n",
              "       [ 0.87645346],\n",
              "       [-0.22414167],\n",
              "       [ 1.04154272],\n",
              "       [ 0.25278289],\n",
              "       [ 1.04154272],\n",
              "       [ 1.20663199],\n",
              "       [-0.0590524 ],\n",
              "       [ 0.28946939],\n",
              "       [ 1.20663199],\n",
              "       [ 0.17940988],\n",
              "       [ 0.23443963],\n",
              "       [ 0.49124516],\n",
              "       [ 0.83976695],\n",
              "       [ 0.21609638],\n",
              "       [ 1.13325898],\n",
              "       [ 0.47290191],\n",
              "       [ 0.19775313],\n",
              "       [-0.0223659 ],\n",
              "       [ 0.28946939],\n",
              "       [-0.13242541],\n",
              "       [ 1.18828874],\n",
              "       [ 0.25278289],\n",
              "       [ 0.41787215],\n",
              "       [ 0.32615589],\n",
              "       [ 1.90367557],\n",
              "       [ 0.34449915],\n",
              "       [ 1.07822923],\n",
              "       [ 0.41787215],\n",
              "       [ 1.02319947],\n",
              "       [-0.07739565],\n",
              "       [ 1.2433185 ],\n",
              "       [ 0.69302094],\n",
              "       [ 0.45455866],\n",
              "       [ 0.7847372 ],\n",
              "       [ 0.47290191],\n",
              "       [ 0.45455866],\n",
              "       [ 0.8581102 ],\n",
              "       [ 0.65633443],\n",
              "       [ 1.31669151],\n",
              "       [ 0.23443963],\n",
              "       [ 0.23443963],\n",
              "       [ 0.94982646],\n",
              "       [ 1.57349703],\n",
              "       [ 0.63799118],\n",
              "       [ 1.11491573],\n",
              "       [ 0.17940988],\n",
              "       [ 1.26166175],\n",
              "       [-0.0957389 ],\n",
              "       [ 1.35337801],\n",
              "       [ 0.65633443],\n",
              "       [ 1.50012403],\n",
              "       [ 0.65633443],\n",
              "       [ 1.51846728],\n",
              "       [ 0.28946939],\n",
              "       [ 1.02319947],\n",
              "       [ 0.10603687],\n",
              "       [ 1.26166175],\n",
              "       [ 1.00485622],\n",
              "       [ 0.54627492],\n",
              "       [ 0.8214237 ],\n",
              "       [ 1.31669151],\n",
              "       [ 0.83976695],\n",
              "       [ 2.1971676 ],\n",
              "       [ 0.60130468],\n",
              "       [ 0.94982646],\n",
              "       [ 0.61964793],\n",
              "       [ 0.52793167],\n",
              "       [-0.40757419],\n",
              "       [ 1.7385863 ],\n",
              "       [-0.11408216],\n",
              "       [ 0.76639394],\n",
              "       [ 1.20663199],\n",
              "       [ 1.07822923],\n",
              "       [-0.07739565],\n",
              "       [ 1.39006451],\n",
              "       [ 0.41787215],\n",
              "       [ 2.05042159],\n",
              "       [ 0.10603687],\n",
              "       [ 0.89479671],\n",
              "       [ 0.60130468],\n",
              "       [        nan],\n",
              "       [ 0.52793167],\n",
              "       [ 1.18828874],\n",
              "       [ 0.23443963],\n",
              "       [ 1.09657248],\n",
              "       [ 0.47290191],\n",
              "       [ 1.11491573],\n",
              "       [ 1.35337801],\n",
              "       [ 0.27112614],\n",
              "       [ 1.61018354],\n",
              "       [ 0.23443963],\n",
              "       [ 0.3995289 ],\n",
              "       [ 1.35337801],\n",
              "       [ 0.38118565],\n",
              "       [ 1.35337801],\n",
              "       [ 0.49124516],\n",
              "       [ 1.42675102],\n",
              "       [ 0.56461817],\n",
              "       [ 1.48178077],\n",
              "       [ 0.3628424 ],\n",
              "       [ 1.20663199],\n",
              "       [ 1.16994549],\n",
              "       [ 2.5823759 ],\n",
              "       [ 0.45455866],\n",
              "       [ 0.96816972],\n",
              "       [-0.27917142],\n",
              "       [ 0.83976695],\n",
              "       [-0.13242541],\n",
              "       [ 1.22497525],\n",
              "       [ 0.50958841],\n",
              "       [ 1.48178077],\n",
              "       [ 1.20663199],\n",
              "       [ 1.02319947],\n",
              "       [ 0.45455866],\n",
              "       [ 1.62852679],\n",
              "       [-0.5543202 ],\n",
              "       [ 1.88533232],\n",
              "       [-0.26082817],\n",
              "       [ 1.29834825],\n",
              "       [ 1.05988598],\n",
              "       [ 0.65633443],\n",
              "       [ 0.67467768],\n",
              "       [ 1.48178077],\n",
              "       [ 0.54627492],\n",
              "       [ 1.75692956],\n",
              "       [ 0.93148321],\n",
              "       [ 0.41787215],\n",
              "       [ 1.280005  ],\n",
              "       [ 0.28946939],\n",
              "       [ 1.280005  ],\n",
              "       [ 1.26166175],\n",
              "       [ 1.13325898],\n",
              "       [ 0.93148321],\n",
              "       [ 1.39006451],\n",
              "       [ 1.07822923],\n",
              "       [ 0.76639394],\n",
              "       [ 1.37172126],\n",
              "       [ 0.32615589],\n",
              "       [ 1.2433185 ],\n",
              "       [-0.26082817],\n",
              "       [ 1.51846728],\n",
              "       [ 0.23443963],\n",
              "       [ 0.98651297],\n",
              "       [ 1.15160224],\n",
              "       [ 0.30781264],\n",
              "       [ 1.46343752],\n",
              "       [ 0.52793167],\n",
              "       [ 0.32615589],\n",
              "       [ 2.17882435],\n",
              "       [-0.07739565],\n",
              "       [ 1.04154272],\n",
              "       [ 1.26166175],\n",
              "       [ 1.15160224]])"
            ]
          },
          "metadata": {},
          "execution_count": 6
        }
      ]
    },
    {
      "cell_type": "markdown",
      "source": [
        "Let's use `bill_length_mm` to predict `bill_depth_mm`. Prepare your data and fit the following models on the entire dataset:\n",
        "\n",
        "* Simple linear regression (e.g. straight-line) model\n",
        "* Quadratic (degree 2 polynomial) model\n",
        "* Cubic (degree 3 polynomial) model\n",
        "* Degree 10 polynomial model\n",
        "\n",
        "Make predictions for each model and plot your fitted models on the scatterplot."
      ],
      "metadata": {
        "id": "hEwiWESpJLwi"
      }
    },
    {
      "cell_type": "code",
      "source": [
        "pen = pen.dropna()"
      ],
      "metadata": {
        "id": "xYS0w_O-HEai"
      },
      "execution_count": 7,
      "outputs": []
    },
    {
      "cell_type": "code",
      "source": [
        "y = pen['bill_depth_mm']\n",
        "X = pen[['bill_length_mm']]"
      ],
      "metadata": {
        "id": "b6YoV4QTJWyE"
      },
      "execution_count": 8,
      "outputs": []
    },
    {
      "cell_type": "code",
      "source": [
        "from sklearn.linear_model import LinearRegression\n",
        "\n",
        "lr = LinearRegression()"
      ],
      "metadata": {
        "id": "Njo9AyCtJ2__"
      },
      "execution_count": 9,
      "outputs": []
    },
    {
      "cell_type": "code",
      "source": [
        "from sklearn.model_selection import train_test_split\n",
        "\n",
        "X_train, X_test, y_train, y_test = train_test_split(X, y, test_size=0.25)"
      ],
      "metadata": {
        "id": "T8AsL08tJ94p"
      },
      "execution_count": 10,
      "outputs": []
    },
    {
      "cell_type": "code",
      "source": [
        "lr_fit = lr.fit(X_train, y_train)\n",
        "lr_fit.coef_\n",
        "\n",
        "train_pred = lr_fit.predict(X_train)\n",
        "test_pred = lr_fit.predict(X_test)\n",
        "y_pred1 = lr_fit.predict(X)"
      ],
      "metadata": {
        "id": "2QpApCRMKma7"
      },
      "execution_count": 11,
      "outputs": []
    },
    {
      "cell_type": "code",
      "source": [
        "y_pred_lr = lr_fit.predict(X_test)"
      ],
      "metadata": {
        "id": "fZbGpBB0LymW"
      },
      "execution_count": 12,
      "outputs": []
    },
    {
      "cell_type": "code",
      "source": [
        "#MSE for test data\n",
        "from sklearn.metrics import r2_score, mean_squared_error\n",
        "mean_squared_error(y_test, y_pred_lr)"
      ],
      "metadata": {
        "colab": {
          "base_uri": "https://localhost:8080/"
        },
        "id": "BeLmxY8jL5Ib",
        "outputId": "01c07cb7-bc8b-4060-c75c-00da7f6c4c53"
      },
      "execution_count": 13,
      "outputs": [
        {
          "output_type": "execute_result",
          "data": {
            "text/plain": [
              "3.4905661530569354"
            ]
          },
          "metadata": {},
          "execution_count": 13
        }
      ]
    },
    {
      "cell_type": "code",
      "source": [
        "#MSE for train data\n",
        "mean_squared_error(y_train, lr_fit.predict(X_train))"
      ],
      "metadata": {
        "colab": {
          "base_uri": "https://localhost:8080/"
        },
        "id": "pu7F5j-eOI_b",
        "outputId": "9a9c4f71-dc5f-444e-bbc0-4a274f38156a"
      },
      "execution_count": 14,
      "outputs": [
        {
          "output_type": "execute_result",
          "data": {
            "text/plain": [
              "3.754659002572827"
            ]
          },
          "metadata": {},
          "execution_count": 14
        }
      ]
    },
    {
      "cell_type": "code",
      "source": [
        "final_model = lr.fit(X, y)\n",
        "final_model.coef_"
      ],
      "metadata": {
        "colab": {
          "base_uri": "https://localhost:8080/"
        },
        "id": "CfbPYh5RL_oM",
        "outputId": "0e48d1ec-4527-42b5-d99e-1e66beb8f129"
      },
      "execution_count": 15,
      "outputs": [
        {
          "output_type": "execute_result",
          "data": {
            "text/plain": [
              "array([-0.08232675])"
            ]
          },
          "metadata": {},
          "execution_count": 15
        }
      ]
    },
    {
      "cell_type": "code",
      "source": [
        "#R squared for test data\n",
        "from sklearn.metrics import r2_score\n",
        "r2_score(y_test, y_pred_lr)\n"
      ],
      "metadata": {
        "colab": {
          "base_uri": "https://localhost:8080/"
        },
        "id": "UQOFxkjwNa_M",
        "outputId": "3fe18a98-1f97-48f9-b4f2-1bd1a6f6c94c"
      },
      "execution_count": 16,
      "outputs": [
        {
          "output_type": "execute_result",
          "data": {
            "text/plain": [
              "-0.05811676567007806"
            ]
          },
          "metadata": {},
          "execution_count": 16
        }
      ]
    },
    {
      "cell_type": "code",
      "source": [
        "#R squared for train data\n",
        "r2_score(y_train, lr_fit.predict(X_train))"
      ],
      "metadata": {
        "colab": {
          "base_uri": "https://localhost:8080/"
        },
        "id": "ok4gvmUtNstt",
        "outputId": "7808e261-660b-4d68-ca68-50ac67e56e61"
      },
      "execution_count": 17,
      "outputs": [
        {
          "output_type": "execute_result",
          "data": {
            "text/plain": [
              "0.04705596130872225"
            ]
          },
          "metadata": {},
          "execution_count": 17
        }
      ]
    },
    {
      "cell_type": "markdown",
      "source": [
        "Now degree 2"
      ],
      "metadata": {
        "id": "5Df48hJwRJqx"
      }
    },
    {
      "cell_type": "code",
      "source": [
        "X[\"x_sq\"] = X[\"bill_length_mm\"]**2\n",
        "#X[\"x_cube\"] = X[\"bill_length_mm\"]**3\n",
        "#X[\"x_10\"] = X[\"bill_length_mm\"]**10"
      ],
      "metadata": {
        "colab": {
          "base_uri": "https://localhost:8080/"
        },
        "id": "qtyLXEh7RLEu",
        "outputId": "2fea8b34-0a54-4051-e865-0d25a0232441"
      },
      "execution_count": 18,
      "outputs": [
        {
          "output_type": "stream",
          "name": "stderr",
          "text": [
            "<ipython-input-18-f0f37c0135ab>:1: SettingWithCopyWarning: \n",
            "A value is trying to be set on a copy of a slice from a DataFrame.\n",
            "Try using .loc[row_indexer,col_indexer] = value instead\n",
            "\n",
            "See the caveats in the documentation: https://pandas.pydata.org/pandas-docs/stable/user_guide/indexing.html#returning-a-view-versus-a-copy\n",
            "  X[\"x_sq\"] = X[\"bill_length_mm\"]**2\n"
          ]
        }
      ]
    },
    {
      "cell_type": "code",
      "source": [
        "X_train, X_test, y_train, y_test = train_test_split(X, y, test_size=0.25)\n",
        "lr_fit = lr.fit(X_train, y_train)\n",
        "lr_fit.coef_"
      ],
      "metadata": {
        "colab": {
          "base_uri": "https://localhost:8080/"
        },
        "id": "jqdLgVbpU3DV",
        "outputId": "3efb5685-be42-4c9a-cb0d-1b6cbcc2857e"
      },
      "execution_count": 19,
      "outputs": [
        {
          "output_type": "execute_result",
          "data": {
            "text/plain": [
              "array([-1.28366989,  0.01371945])"
            ]
          },
          "metadata": {},
          "execution_count": 19
        }
      ]
    },
    {
      "cell_type": "code",
      "source": [
        "y_pred_lr_train = lr_fit.predict(X_train)\n",
        "y_pred_lr_test = lr_fit.predict(X_test)\n",
        "y_pred2 = lr_fit.predict(X)"
      ],
      "metadata": {
        "id": "BRBK_YEXU_Dj"
      },
      "execution_count": 20,
      "outputs": []
    },
    {
      "cell_type": "code",
      "source": [
        "r2_score(y_train, y_pred_lr_train)"
      ],
      "metadata": {
        "colab": {
          "base_uri": "https://localhost:8080/"
        },
        "id": "sc_M3598VnPg",
        "outputId": "36f4b3ad-fce1-4eb9-b3df-8797e0d40347"
      },
      "execution_count": 21,
      "outputs": [
        {
          "output_type": "execute_result",
          "data": {
            "text/plain": [
              "0.08677137442697958"
            ]
          },
          "metadata": {},
          "execution_count": 21
        }
      ]
    },
    {
      "cell_type": "code",
      "source": [
        "r2_score(y_test, y_pred_lr_test)"
      ],
      "metadata": {
        "colab": {
          "base_uri": "https://localhost:8080/"
        },
        "id": "W0KIQA9aVpLM",
        "outputId": "d5e7e144-dbc1-47c1-8be7-b3d96bd436c9"
      },
      "execution_count": 22,
      "outputs": [
        {
          "output_type": "execute_result",
          "data": {
            "text/plain": [
              "0.17433821583189146"
            ]
          },
          "metadata": {},
          "execution_count": 22
        }
      ]
    },
    {
      "cell_type": "code",
      "source": [
        "mean_squared_error(y_test, y_pred_lr_test)"
      ],
      "metadata": {
        "colab": {
          "base_uri": "https://localhost:8080/"
        },
        "id": "FRJKBWgPV4Wk",
        "outputId": "18e04dfa-51fc-4c2f-c97e-390ed453e591"
      },
      "execution_count": 23,
      "outputs": [
        {
          "output_type": "execute_result",
          "data": {
            "text/plain": [
              "3.1323286502647854"
            ]
          },
          "metadata": {},
          "execution_count": 23
        }
      ]
    },
    {
      "cell_type": "code",
      "source": [
        "mean_squared_error(y_train, lr_fit.predict(X_train))"
      ],
      "metadata": {
        "colab": {
          "base_uri": "https://localhost:8080/"
        },
        "id": "7RQ_x8UrV6Su",
        "outputId": "898bfb27-a906-4d72-80f0-701950dbeb04"
      },
      "execution_count": 24,
      "outputs": [
        {
          "output_type": "execute_result",
          "data": {
            "text/plain": [
              "3.553053973559603"
            ]
          },
          "metadata": {},
          "execution_count": 24
        }
      ]
    },
    {
      "cell_type": "markdown",
      "source": [
        "Now degree 3"
      ],
      "metadata": {
        "id": "d_8W1eKgWZEk"
      }
    },
    {
      "cell_type": "code",
      "source": [
        "X[\"x_cube\"] = X[\"bill_length_mm\"]**3"
      ],
      "metadata": {
        "id": "tjuOvH63LQ2b",
        "colab": {
          "base_uri": "https://localhost:8080/"
        },
        "outputId": "c5dfe722-4bf5-4216-ec1b-60b03dc89cad"
      },
      "execution_count": 25,
      "outputs": [
        {
          "output_type": "stream",
          "name": "stderr",
          "text": [
            "<ipython-input-25-57782590b23f>:1: SettingWithCopyWarning: \n",
            "A value is trying to be set on a copy of a slice from a DataFrame.\n",
            "Try using .loc[row_indexer,col_indexer] = value instead\n",
            "\n",
            "See the caveats in the documentation: https://pandas.pydata.org/pandas-docs/stable/user_guide/indexing.html#returning-a-view-versus-a-copy\n",
            "  X[\"x_cube\"] = X[\"bill_length_mm\"]**3\n"
          ]
        }
      ]
    },
    {
      "cell_type": "code",
      "source": [
        "X_train, X_test, y_train, y_test = train_test_split(X, y, test_size=0.25)\n",
        "lr_fit = lr.fit(X_train, y_train)\n",
        "lr_fit.coef_"
      ],
      "metadata": {
        "colab": {
          "base_uri": "https://localhost:8080/"
        },
        "id": "DuqvR9w2Wz7Z",
        "outputId": "eaae42c2-1020-424d-ef65-da9ac315c5e6"
      },
      "execution_count": 26,
      "outputs": [
        {
          "output_type": "execute_result",
          "data": {
            "text/plain": [
              "array([ 4.72921753e+00, -1.22301911e-01,  1.01578502e-03])"
            ]
          },
          "metadata": {},
          "execution_count": 26
        }
      ]
    },
    {
      "cell_type": "code",
      "source": [
        "y_pred_lr_train = lr_fit.predict(X_train)\n",
        "y_pred_lr_test = lr_fit.predict(X_test)\n",
        "y_pred3 = lr_fit.predict(X)"
      ],
      "metadata": {
        "id": "MM5VncmvW5dR"
      },
      "execution_count": 27,
      "outputs": []
    },
    {
      "cell_type": "code",
      "source": [
        "r2_score(y_train, y_pred_lr_train)"
      ],
      "metadata": {
        "colab": {
          "base_uri": "https://localhost:8080/"
        },
        "id": "2TQvdXkDW9SX",
        "outputId": "385d6249-5858-43e7-e9e7-deeca3a60cc1"
      },
      "execution_count": 28,
      "outputs": [
        {
          "output_type": "execute_result",
          "data": {
            "text/plain": [
              "0.10406089681873643"
            ]
          },
          "metadata": {},
          "execution_count": 28
        }
      ]
    },
    {
      "cell_type": "code",
      "source": [
        "r2_score(y_test, y_pred_lr_test)"
      ],
      "metadata": {
        "colab": {
          "base_uri": "https://localhost:8080/"
        },
        "id": "LllcUR3nXOBR",
        "outputId": "fc50080b-39ad-427a-d3ce-398a759a6b53"
      },
      "execution_count": 29,
      "outputs": [
        {
          "output_type": "execute_result",
          "data": {
            "text/plain": [
              "0.20832188112614514"
            ]
          },
          "metadata": {},
          "execution_count": 29
        }
      ]
    },
    {
      "cell_type": "code",
      "source": [
        "mean_squared_error(y_test, y_pred_lr_test)"
      ],
      "metadata": {
        "colab": {
          "base_uri": "https://localhost:8080/"
        },
        "id": "91yqZeqwXlva",
        "outputId": "e07e0125-9af9-4464-af23-56eefd01c415"
      },
      "execution_count": 30,
      "outputs": [
        {
          "output_type": "execute_result",
          "data": {
            "text/plain": [
              "3.082073826720805"
            ]
          },
          "metadata": {},
          "execution_count": 30
        }
      ]
    },
    {
      "cell_type": "code",
      "source": [
        "mean_squared_error(y_train, lr_fit.predict(X_train))"
      ],
      "metadata": {
        "colab": {
          "base_uri": "https://localhost:8080/"
        },
        "id": "CyO8lIR3Xmgt",
        "outputId": "0f80bafd-5d0a-4b55-f928-13b408dacb69"
      },
      "execution_count": 31,
      "outputs": [
        {
          "output_type": "execute_result",
          "data": {
            "text/plain": [
              "3.445132592271414"
            ]
          },
          "metadata": {},
          "execution_count": 31
        }
      ]
    },
    {
      "cell_type": "markdown",
      "source": [
        "Now adding degree 4, 5, 6, 7, 8, 9, 10 to the dataframe"
      ],
      "metadata": {
        "id": "BS6DjKYZXu8A"
      }
    },
    {
      "cell_type": "code",
      "source": [
        "X[\"x_cube\"] = X[\"bill_length_mm\"]**3\n",
        "X[\"x_4\"] = X[\"bill_length_mm\"]**4\n",
        "X[\"x_5\"] = X[\"bill_length_mm\"]**5\n",
        "X[\"x_6\"] = X[\"bill_length_mm\"]**6\n",
        "X[\"x_7\"] = X[\"bill_length_mm\"]**7\n",
        "X[\"x_8\"] = X[\"bill_length_mm\"]**8\n",
        "X[\"x_9\"] = X[\"bill_length_mm\"]**9\n",
        "X[\"x_10\"] = X[\"bill_length_mm\"]**10\n",
        "X"
      ],
      "metadata": {
        "colab": {
          "base_uri": "https://localhost:8080/",
          "height": 944
        },
        "id": "OXqOY0dZYJW5",
        "outputId": "3ebd8177-4f60-4970-9eed-6954c1f0fdd5"
      },
      "execution_count": 32,
      "outputs": [
        {
          "output_type": "stream",
          "name": "stderr",
          "text": [
            "<ipython-input-32-2df70d5931e8>:1: SettingWithCopyWarning: \n",
            "A value is trying to be set on a copy of a slice from a DataFrame.\n",
            "Try using .loc[row_indexer,col_indexer] = value instead\n",
            "\n",
            "See the caveats in the documentation: https://pandas.pydata.org/pandas-docs/stable/user_guide/indexing.html#returning-a-view-versus-a-copy\n",
            "  X[\"x_cube\"] = X[\"bill_length_mm\"]**3\n",
            "<ipython-input-32-2df70d5931e8>:2: SettingWithCopyWarning: \n",
            "A value is trying to be set on a copy of a slice from a DataFrame.\n",
            "Try using .loc[row_indexer,col_indexer] = value instead\n",
            "\n",
            "See the caveats in the documentation: https://pandas.pydata.org/pandas-docs/stable/user_guide/indexing.html#returning-a-view-versus-a-copy\n",
            "  X[\"x_4\"] = X[\"bill_length_mm\"]**4\n",
            "<ipython-input-32-2df70d5931e8>:3: SettingWithCopyWarning: \n",
            "A value is trying to be set on a copy of a slice from a DataFrame.\n",
            "Try using .loc[row_indexer,col_indexer] = value instead\n",
            "\n",
            "See the caveats in the documentation: https://pandas.pydata.org/pandas-docs/stable/user_guide/indexing.html#returning-a-view-versus-a-copy\n",
            "  X[\"x_5\"] = X[\"bill_length_mm\"]**5\n",
            "<ipython-input-32-2df70d5931e8>:4: SettingWithCopyWarning: \n",
            "A value is trying to be set on a copy of a slice from a DataFrame.\n",
            "Try using .loc[row_indexer,col_indexer] = value instead\n",
            "\n",
            "See the caveats in the documentation: https://pandas.pydata.org/pandas-docs/stable/user_guide/indexing.html#returning-a-view-versus-a-copy\n",
            "  X[\"x_6\"] = X[\"bill_length_mm\"]**6\n",
            "<ipython-input-32-2df70d5931e8>:5: SettingWithCopyWarning: \n",
            "A value is trying to be set on a copy of a slice from a DataFrame.\n",
            "Try using .loc[row_indexer,col_indexer] = value instead\n",
            "\n",
            "See the caveats in the documentation: https://pandas.pydata.org/pandas-docs/stable/user_guide/indexing.html#returning-a-view-versus-a-copy\n",
            "  X[\"x_7\"] = X[\"bill_length_mm\"]**7\n"
          ]
        },
        {
          "output_type": "execute_result",
          "data": {
            "text/plain": [
              "     bill_length_mm     x_sq      x_cube           x_4           x_5  \\\n",
              "0              39.1  1528.81   59776.471  2.337260e+06  9.138687e+07   \n",
              "1              39.5  1560.25   61629.875  2.434380e+06  9.615801e+07   \n",
              "2              40.3  1624.09   65450.827  2.637668e+06  1.062980e+08   \n",
              "4              36.7  1346.89   49430.863  1.814113e+06  6.657794e+07   \n",
              "5              39.3  1544.49   60698.457  2.385449e+06  9.374816e+07   \n",
              "..              ...      ...         ...           ...           ...   \n",
              "339            55.8  3113.64  173741.112  9.694754e+06  5.409673e+08   \n",
              "340            43.5  1892.25   82312.875  3.580610e+06  1.557565e+08   \n",
              "341            49.6  2460.16  122023.936  6.052387e+06  3.001984e+08   \n",
              "342            50.8  2580.64  131096.512  6.659703e+06  3.383129e+08   \n",
              "343            50.2  2520.04  126506.008  6.350602e+06  3.188002e+08   \n",
              "\n",
              "              x_6           x_7           x_8           x_9          x_10  \n",
              "0    3.573226e+09  1.397132e+11  5.462784e+12  2.135949e+14  8.351559e+15  \n",
              "1    3.798241e+09  1.500305e+11  5.926206e+12  2.340851e+14  9.246363e+15  \n",
              "2    4.283811e+09  1.726376e+11  6.957294e+12  2.803790e+14  1.129927e+16  \n",
              "4    2.443410e+09  8.967315e+10  3.291005e+12  1.207799e+14  4.432621e+15  \n",
              "5    3.684303e+09  1.447931e+11  5.690369e+12  2.236315e+14  8.788717e+15  \n",
              "..            ...           ...           ...           ...           ...  \n",
              "339  3.018597e+10  1.684377e+12  9.398826e+13  5.244545e+15  2.926456e+17  \n",
              "340  6.775409e+09  2.947303e+11  1.282077e+13  5.577034e+14  2.426010e+16  \n",
              "341  1.488984e+10  7.385361e+11  3.663139e+13  1.816917e+15  9.011908e+16  \n",
              "342  1.718630e+10  8.730638e+11  4.435164e+13  2.253063e+15  1.144556e+17  \n",
              "343  1.600377e+10  8.033893e+11  4.033014e+13  2.024573e+15  1.016336e+17  \n",
              "\n",
              "[333 rows x 10 columns]"
            ],
            "text/html": [
              "\n",
              "  <div id=\"df-1f359ec1-8bcb-49bf-83d5-c4b4a38b164a\" class=\"colab-df-container\">\n",
              "    <div>\n",
              "<style scoped>\n",
              "    .dataframe tbody tr th:only-of-type {\n",
              "        vertical-align: middle;\n",
              "    }\n",
              "\n",
              "    .dataframe tbody tr th {\n",
              "        vertical-align: top;\n",
              "    }\n",
              "\n",
              "    .dataframe thead th {\n",
              "        text-align: right;\n",
              "    }\n",
              "</style>\n",
              "<table border=\"1\" class=\"dataframe\">\n",
              "  <thead>\n",
              "    <tr style=\"text-align: right;\">\n",
              "      <th></th>\n",
              "      <th>bill_length_mm</th>\n",
              "      <th>x_sq</th>\n",
              "      <th>x_cube</th>\n",
              "      <th>x_4</th>\n",
              "      <th>x_5</th>\n",
              "      <th>x_6</th>\n",
              "      <th>x_7</th>\n",
              "      <th>x_8</th>\n",
              "      <th>x_9</th>\n",
              "      <th>x_10</th>\n",
              "    </tr>\n",
              "  </thead>\n",
              "  <tbody>\n",
              "    <tr>\n",
              "      <th>0</th>\n",
              "      <td>39.1</td>\n",
              "      <td>1528.81</td>\n",
              "      <td>59776.471</td>\n",
              "      <td>2.337260e+06</td>\n",
              "      <td>9.138687e+07</td>\n",
              "      <td>3.573226e+09</td>\n",
              "      <td>1.397132e+11</td>\n",
              "      <td>5.462784e+12</td>\n",
              "      <td>2.135949e+14</td>\n",
              "      <td>8.351559e+15</td>\n",
              "    </tr>\n",
              "    <tr>\n",
              "      <th>1</th>\n",
              "      <td>39.5</td>\n",
              "      <td>1560.25</td>\n",
              "      <td>61629.875</td>\n",
              "      <td>2.434380e+06</td>\n",
              "      <td>9.615801e+07</td>\n",
              "      <td>3.798241e+09</td>\n",
              "      <td>1.500305e+11</td>\n",
              "      <td>5.926206e+12</td>\n",
              "      <td>2.340851e+14</td>\n",
              "      <td>9.246363e+15</td>\n",
              "    </tr>\n",
              "    <tr>\n",
              "      <th>2</th>\n",
              "      <td>40.3</td>\n",
              "      <td>1624.09</td>\n",
              "      <td>65450.827</td>\n",
              "      <td>2.637668e+06</td>\n",
              "      <td>1.062980e+08</td>\n",
              "      <td>4.283811e+09</td>\n",
              "      <td>1.726376e+11</td>\n",
              "      <td>6.957294e+12</td>\n",
              "      <td>2.803790e+14</td>\n",
              "      <td>1.129927e+16</td>\n",
              "    </tr>\n",
              "    <tr>\n",
              "      <th>4</th>\n",
              "      <td>36.7</td>\n",
              "      <td>1346.89</td>\n",
              "      <td>49430.863</td>\n",
              "      <td>1.814113e+06</td>\n",
              "      <td>6.657794e+07</td>\n",
              "      <td>2.443410e+09</td>\n",
              "      <td>8.967315e+10</td>\n",
              "      <td>3.291005e+12</td>\n",
              "      <td>1.207799e+14</td>\n",
              "      <td>4.432621e+15</td>\n",
              "    </tr>\n",
              "    <tr>\n",
              "      <th>5</th>\n",
              "      <td>39.3</td>\n",
              "      <td>1544.49</td>\n",
              "      <td>60698.457</td>\n",
              "      <td>2.385449e+06</td>\n",
              "      <td>9.374816e+07</td>\n",
              "      <td>3.684303e+09</td>\n",
              "      <td>1.447931e+11</td>\n",
              "      <td>5.690369e+12</td>\n",
              "      <td>2.236315e+14</td>\n",
              "      <td>8.788717e+15</td>\n",
              "    </tr>\n",
              "    <tr>\n",
              "      <th>...</th>\n",
              "      <td>...</td>\n",
              "      <td>...</td>\n",
              "      <td>...</td>\n",
              "      <td>...</td>\n",
              "      <td>...</td>\n",
              "      <td>...</td>\n",
              "      <td>...</td>\n",
              "      <td>...</td>\n",
              "      <td>...</td>\n",
              "      <td>...</td>\n",
              "    </tr>\n",
              "    <tr>\n",
              "      <th>339</th>\n",
              "      <td>55.8</td>\n",
              "      <td>3113.64</td>\n",
              "      <td>173741.112</td>\n",
              "      <td>9.694754e+06</td>\n",
              "      <td>5.409673e+08</td>\n",
              "      <td>3.018597e+10</td>\n",
              "      <td>1.684377e+12</td>\n",
              "      <td>9.398826e+13</td>\n",
              "      <td>5.244545e+15</td>\n",
              "      <td>2.926456e+17</td>\n",
              "    </tr>\n",
              "    <tr>\n",
              "      <th>340</th>\n",
              "      <td>43.5</td>\n",
              "      <td>1892.25</td>\n",
              "      <td>82312.875</td>\n",
              "      <td>3.580610e+06</td>\n",
              "      <td>1.557565e+08</td>\n",
              "      <td>6.775409e+09</td>\n",
              "      <td>2.947303e+11</td>\n",
              "      <td>1.282077e+13</td>\n",
              "      <td>5.577034e+14</td>\n",
              "      <td>2.426010e+16</td>\n",
              "    </tr>\n",
              "    <tr>\n",
              "      <th>341</th>\n",
              "      <td>49.6</td>\n",
              "      <td>2460.16</td>\n",
              "      <td>122023.936</td>\n",
              "      <td>6.052387e+06</td>\n",
              "      <td>3.001984e+08</td>\n",
              "      <td>1.488984e+10</td>\n",
              "      <td>7.385361e+11</td>\n",
              "      <td>3.663139e+13</td>\n",
              "      <td>1.816917e+15</td>\n",
              "      <td>9.011908e+16</td>\n",
              "    </tr>\n",
              "    <tr>\n",
              "      <th>342</th>\n",
              "      <td>50.8</td>\n",
              "      <td>2580.64</td>\n",
              "      <td>131096.512</td>\n",
              "      <td>6.659703e+06</td>\n",
              "      <td>3.383129e+08</td>\n",
              "      <td>1.718630e+10</td>\n",
              "      <td>8.730638e+11</td>\n",
              "      <td>4.435164e+13</td>\n",
              "      <td>2.253063e+15</td>\n",
              "      <td>1.144556e+17</td>\n",
              "    </tr>\n",
              "    <tr>\n",
              "      <th>343</th>\n",
              "      <td>50.2</td>\n",
              "      <td>2520.04</td>\n",
              "      <td>126506.008</td>\n",
              "      <td>6.350602e+06</td>\n",
              "      <td>3.188002e+08</td>\n",
              "      <td>1.600377e+10</td>\n",
              "      <td>8.033893e+11</td>\n",
              "      <td>4.033014e+13</td>\n",
              "      <td>2.024573e+15</td>\n",
              "      <td>1.016336e+17</td>\n",
              "    </tr>\n",
              "  </tbody>\n",
              "</table>\n",
              "<p>333 rows × 10 columns</p>\n",
              "</div>\n",
              "    <div class=\"colab-df-buttons\">\n",
              "\n",
              "  <div class=\"colab-df-container\">\n",
              "    <button class=\"colab-df-convert\" onclick=\"convertToInteractive('df-1f359ec1-8bcb-49bf-83d5-c4b4a38b164a')\"\n",
              "            title=\"Convert this dataframe to an interactive table.\"\n",
              "            style=\"display:none;\">\n",
              "\n",
              "  <svg xmlns=\"http://www.w3.org/2000/svg\" height=\"24px\" viewBox=\"0 -960 960 960\">\n",
              "    <path d=\"M120-120v-720h720v720H120Zm60-500h600v-160H180v160Zm220 220h160v-160H400v160Zm0 220h160v-160H400v160ZM180-400h160v-160H180v160Zm440 0h160v-160H620v160ZM180-180h160v-160H180v160Zm440 0h160v-160H620v160Z\"/>\n",
              "  </svg>\n",
              "    </button>\n",
              "\n",
              "  <style>\n",
              "    .colab-df-container {\n",
              "      display:flex;\n",
              "      gap: 12px;\n",
              "    }\n",
              "\n",
              "    .colab-df-convert {\n",
              "      background-color: #E8F0FE;\n",
              "      border: none;\n",
              "      border-radius: 50%;\n",
              "      cursor: pointer;\n",
              "      display: none;\n",
              "      fill: #1967D2;\n",
              "      height: 32px;\n",
              "      padding: 0 0 0 0;\n",
              "      width: 32px;\n",
              "    }\n",
              "\n",
              "    .colab-df-convert:hover {\n",
              "      background-color: #E2EBFA;\n",
              "      box-shadow: 0px 1px 2px rgba(60, 64, 67, 0.3), 0px 1px 3px 1px rgba(60, 64, 67, 0.15);\n",
              "      fill: #174EA6;\n",
              "    }\n",
              "\n",
              "    .colab-df-buttons div {\n",
              "      margin-bottom: 4px;\n",
              "    }\n",
              "\n",
              "    [theme=dark] .colab-df-convert {\n",
              "      background-color: #3B4455;\n",
              "      fill: #D2E3FC;\n",
              "    }\n",
              "\n",
              "    [theme=dark] .colab-df-convert:hover {\n",
              "      background-color: #434B5C;\n",
              "      box-shadow: 0px 1px 3px 1px rgba(0, 0, 0, 0.15);\n",
              "      filter: drop-shadow(0px 1px 2px rgba(0, 0, 0, 0.3));\n",
              "      fill: #FFFFFF;\n",
              "    }\n",
              "  </style>\n",
              "\n",
              "    <script>\n",
              "      const buttonEl =\n",
              "        document.querySelector('#df-1f359ec1-8bcb-49bf-83d5-c4b4a38b164a button.colab-df-convert');\n",
              "      buttonEl.style.display =\n",
              "        google.colab.kernel.accessAllowed ? 'block' : 'none';\n",
              "\n",
              "      async function convertToInteractive(key) {\n",
              "        const element = document.querySelector('#df-1f359ec1-8bcb-49bf-83d5-c4b4a38b164a');\n",
              "        const dataTable =\n",
              "          await google.colab.kernel.invokeFunction('convertToInteractive',\n",
              "                                                    [key], {});\n",
              "        if (!dataTable) return;\n",
              "\n",
              "        const docLinkHtml = 'Like what you see? Visit the ' +\n",
              "          '<a target=\"_blank\" href=https://colab.research.google.com/notebooks/data_table.ipynb>data table notebook</a>'\n",
              "          + ' to learn more about interactive tables.';\n",
              "        element.innerHTML = '';\n",
              "        dataTable['output_type'] = 'display_data';\n",
              "        await google.colab.output.renderOutput(dataTable, element);\n",
              "        const docLink = document.createElement('div');\n",
              "        docLink.innerHTML = docLinkHtml;\n",
              "        element.appendChild(docLink);\n",
              "      }\n",
              "    </script>\n",
              "  </div>\n",
              "\n",
              "\n",
              "<div id=\"df-a2e2cd92-6257-4ed8-afca-d69529b3a049\">\n",
              "  <button class=\"colab-df-quickchart\" onclick=\"quickchart('df-a2e2cd92-6257-4ed8-afca-d69529b3a049')\"\n",
              "            title=\"Suggest charts\"\n",
              "            style=\"display:none;\">\n",
              "\n",
              "<svg xmlns=\"http://www.w3.org/2000/svg\" height=\"24px\"viewBox=\"0 0 24 24\"\n",
              "     width=\"24px\">\n",
              "    <g>\n",
              "        <path d=\"M19 3H5c-1.1 0-2 .9-2 2v14c0 1.1.9 2 2 2h14c1.1 0 2-.9 2-2V5c0-1.1-.9-2-2-2zM9 17H7v-7h2v7zm4 0h-2V7h2v10zm4 0h-2v-4h2v4z\"/>\n",
              "    </g>\n",
              "</svg>\n",
              "  </button>\n",
              "\n",
              "<style>\n",
              "  .colab-df-quickchart {\n",
              "      --bg-color: #E8F0FE;\n",
              "      --fill-color: #1967D2;\n",
              "      --hover-bg-color: #E2EBFA;\n",
              "      --hover-fill-color: #174EA6;\n",
              "      --disabled-fill-color: #AAA;\n",
              "      --disabled-bg-color: #DDD;\n",
              "  }\n",
              "\n",
              "  [theme=dark] .colab-df-quickchart {\n",
              "      --bg-color: #3B4455;\n",
              "      --fill-color: #D2E3FC;\n",
              "      --hover-bg-color: #434B5C;\n",
              "      --hover-fill-color: #FFFFFF;\n",
              "      --disabled-bg-color: #3B4455;\n",
              "      --disabled-fill-color: #666;\n",
              "  }\n",
              "\n",
              "  .colab-df-quickchart {\n",
              "    background-color: var(--bg-color);\n",
              "    border: none;\n",
              "    border-radius: 50%;\n",
              "    cursor: pointer;\n",
              "    display: none;\n",
              "    fill: var(--fill-color);\n",
              "    height: 32px;\n",
              "    padding: 0;\n",
              "    width: 32px;\n",
              "  }\n",
              "\n",
              "  .colab-df-quickchart:hover {\n",
              "    background-color: var(--hover-bg-color);\n",
              "    box-shadow: 0 1px 2px rgba(60, 64, 67, 0.3), 0 1px 3px 1px rgba(60, 64, 67, 0.15);\n",
              "    fill: var(--button-hover-fill-color);\n",
              "  }\n",
              "\n",
              "  .colab-df-quickchart-complete:disabled,\n",
              "  .colab-df-quickchart-complete:disabled:hover {\n",
              "    background-color: var(--disabled-bg-color);\n",
              "    fill: var(--disabled-fill-color);\n",
              "    box-shadow: none;\n",
              "  }\n",
              "\n",
              "  .colab-df-spinner {\n",
              "    border: 2px solid var(--fill-color);\n",
              "    border-color: transparent;\n",
              "    border-bottom-color: var(--fill-color);\n",
              "    animation:\n",
              "      spin 1s steps(1) infinite;\n",
              "  }\n",
              "\n",
              "  @keyframes spin {\n",
              "    0% {\n",
              "      border-color: transparent;\n",
              "      border-bottom-color: var(--fill-color);\n",
              "      border-left-color: var(--fill-color);\n",
              "    }\n",
              "    20% {\n",
              "      border-color: transparent;\n",
              "      border-left-color: var(--fill-color);\n",
              "      border-top-color: var(--fill-color);\n",
              "    }\n",
              "    30% {\n",
              "      border-color: transparent;\n",
              "      border-left-color: var(--fill-color);\n",
              "      border-top-color: var(--fill-color);\n",
              "      border-right-color: var(--fill-color);\n",
              "    }\n",
              "    40% {\n",
              "      border-color: transparent;\n",
              "      border-right-color: var(--fill-color);\n",
              "      border-top-color: var(--fill-color);\n",
              "    }\n",
              "    60% {\n",
              "      border-color: transparent;\n",
              "      border-right-color: var(--fill-color);\n",
              "    }\n",
              "    80% {\n",
              "      border-color: transparent;\n",
              "      border-right-color: var(--fill-color);\n",
              "      border-bottom-color: var(--fill-color);\n",
              "    }\n",
              "    90% {\n",
              "      border-color: transparent;\n",
              "      border-bottom-color: var(--fill-color);\n",
              "    }\n",
              "  }\n",
              "</style>\n",
              "\n",
              "  <script>\n",
              "    async function quickchart(key) {\n",
              "      const quickchartButtonEl =\n",
              "        document.querySelector('#' + key + ' button');\n",
              "      quickchartButtonEl.disabled = true;  // To prevent multiple clicks.\n",
              "      quickchartButtonEl.classList.add('colab-df-spinner');\n",
              "      try {\n",
              "        const charts = await google.colab.kernel.invokeFunction(\n",
              "            'suggestCharts', [key], {});\n",
              "      } catch (error) {\n",
              "        console.error('Error during call to suggestCharts:', error);\n",
              "      }\n",
              "      quickchartButtonEl.classList.remove('colab-df-spinner');\n",
              "      quickchartButtonEl.classList.add('colab-df-quickchart-complete');\n",
              "    }\n",
              "    (() => {\n",
              "      let quickchartButtonEl =\n",
              "        document.querySelector('#df-a2e2cd92-6257-4ed8-afca-d69529b3a049 button');\n",
              "      quickchartButtonEl.style.display =\n",
              "        google.colab.kernel.accessAllowed ? 'block' : 'none';\n",
              "    })();\n",
              "  </script>\n",
              "</div>\n",
              "\n",
              "  <div id=\"id_a3ff7606-1df9-40bf-ba39-7da887176d17\">\n",
              "    <style>\n",
              "      .colab-df-generate {\n",
              "        background-color: #E8F0FE;\n",
              "        border: none;\n",
              "        border-radius: 50%;\n",
              "        cursor: pointer;\n",
              "        display: none;\n",
              "        fill: #1967D2;\n",
              "        height: 32px;\n",
              "        padding: 0 0 0 0;\n",
              "        width: 32px;\n",
              "      }\n",
              "\n",
              "      .colab-df-generate:hover {\n",
              "        background-color: #E2EBFA;\n",
              "        box-shadow: 0px 1px 2px rgba(60, 64, 67, 0.3), 0px 1px 3px 1px rgba(60, 64, 67, 0.15);\n",
              "        fill: #174EA6;\n",
              "      }\n",
              "\n",
              "      [theme=dark] .colab-df-generate {\n",
              "        background-color: #3B4455;\n",
              "        fill: #D2E3FC;\n",
              "      }\n",
              "\n",
              "      [theme=dark] .colab-df-generate:hover {\n",
              "        background-color: #434B5C;\n",
              "        box-shadow: 0px 1px 3px 1px rgba(0, 0, 0, 0.15);\n",
              "        filter: drop-shadow(0px 1px 2px rgba(0, 0, 0, 0.3));\n",
              "        fill: #FFFFFF;\n",
              "      }\n",
              "    </style>\n",
              "    <button class=\"colab-df-generate\" onclick=\"generateWithVariable('X')\"\n",
              "            title=\"Generate code using this dataframe.\"\n",
              "            style=\"display:none;\">\n",
              "\n",
              "  <svg xmlns=\"http://www.w3.org/2000/svg\" height=\"24px\"viewBox=\"0 0 24 24\"\n",
              "       width=\"24px\">\n",
              "    <path d=\"M7,19H8.4L18.45,9,17,7.55,7,17.6ZM5,21V16.75L18.45,3.32a2,2,0,0,1,2.83,0l1.4,1.43a1.91,1.91,0,0,1,.58,1.4,1.91,1.91,0,0,1-.58,1.4L9.25,21ZM18.45,9,17,7.55Zm-12,3A5.31,5.31,0,0,0,4.9,8.1,5.31,5.31,0,0,0,1,6.5,5.31,5.31,0,0,0,4.9,4.9,5.31,5.31,0,0,0,6.5,1,5.31,5.31,0,0,0,8.1,4.9,5.31,5.31,0,0,0,12,6.5,5.46,5.46,0,0,0,6.5,12Z\"/>\n",
              "  </svg>\n",
              "    </button>\n",
              "    <script>\n",
              "      (() => {\n",
              "      const buttonEl =\n",
              "        document.querySelector('#id_a3ff7606-1df9-40bf-ba39-7da887176d17 button.colab-df-generate');\n",
              "      buttonEl.style.display =\n",
              "        google.colab.kernel.accessAllowed ? 'block' : 'none';\n",
              "\n",
              "      buttonEl.onclick = () => {\n",
              "        google.colab.notebook.generateWithVariable('X');\n",
              "      }\n",
              "      })();\n",
              "    </script>\n",
              "  </div>\n",
              "\n",
              "    </div>\n",
              "  </div>\n"
            ],
            "application/vnd.google.colaboratory.intrinsic+json": {
              "type": "dataframe",
              "variable_name": "X",
              "summary": "{\n  \"name\": \"X\",\n  \"rows\": 333,\n  \"fields\": [\n    {\n      \"column\": \"bill_length_mm\",\n      \"properties\": {\n        \"dtype\": \"number\",\n        \"std\": 5.46866834264756,\n        \"min\": 32.1,\n        \"max\": 59.6,\n        \"num_unique_values\": 163,\n        \"samples\": [\n          46.9,\n          45.7,\n          52.1\n        ],\n        \"semantic_type\": \"\",\n        \"description\": \"\"\n      }\n    },\n    {\n      \"column\": \"x_sq\",\n      \"properties\": {\n        \"dtype\": \"number\",\n        \"std\": 483.5361919976677,\n        \"min\": 1030.41,\n        \"max\": 3552.1600000000003,\n        \"num_unique_values\": 163,\n        \"samples\": [\n          2199.6099999999997,\n          2088.4900000000002,\n          2714.4100000000003\n        ],\n        \"semantic_type\": \"\",\n        \"description\": \"\"\n      }\n    },\n    {\n      \"column\": \"x_cube\",\n      \"properties\": {\n        \"dtype\": \"number\",\n        \"std\": 32552.763882819658,\n        \"min\": 33076.16100000001,\n        \"max\": 211708.736,\n        \"num_unique_values\": 163,\n        \"samples\": [\n          103161.70899999999,\n          95443.99300000002,\n          141420.761\n        ],\n        \"semantic_type\": \"\",\n        \"description\": \"\"\n      }\n    },\n    {\n      \"column\": \"x_4\",\n      \"properties\": {\n        \"dtype\": \"number\",\n        \"std\": 1977857.5198455388,\n        \"min\": 1061744.7681000002,\n        \"max\": 12617840.665600002,\n        \"num_unique_values\": 163,\n        \"samples\": [\n          4838284.1521,\n          4361790.480100001,\n          7368021.648100001\n        ],\n        \"semantic_type\": \"\",\n        \"description\": \"\"\n      }\n    },\n    {\n      \"column\": \"x_5\",\n      \"properties\": {\n        \"dtype\": \"number\",\n        \"std\": 114397776.69154862,\n        \"min\": 34082007.05601001,\n        \"max\": 752023303.6697601,\n        \"num_unique_values\": 163,\n        \"samples\": [\n          226915526.73348996,\n          199333824.94057006,\n          383873927.86601007\n        ],\n        \"semantic_type\": \"\",\n        \"description\": \"\"\n      }\n    },\n    {\n      \"column\": \"x_6\",\n      \"properties\": {\n        \"dtype\": \"number\",\n        \"std\": 6450395986.19549,\n        \"min\": 1094032426.4979212,\n        \"max\": 44820588898.717705,\n        \"num_unique_values\": 163,\n        \"samples\": [\n          10642338203.800678,\n          9109555799.784052,\n          19999831641.819126\n        ],\n        \"semantic_type\": \"\",\n        \"description\": \"\"\n      }\n    },\n    {\n      \"column\": \"x_7\",\n      \"properties\": {\n        \"dtype\": \"number\",\n        \"std\": 359090272056.7092,\n        \"min\": 35118440890.583275,\n        \"max\": 2671307098363.575,\n        \"num_unique_values\": 163,\n        \"samples\": [\n          499125661758.25183,\n          416306700050.1312,\n          1041991228538.7764\n        ],\n        \"semantic_type\": \"\",\n        \"description\": \"\"\n      }\n    },\n    {\n      \"column\": \"x_8\",\n      \"properties\": {\n        \"dtype\": \"number\",\n        \"std\": 19884739474446.152,\n        \"min\": 1127301952587.7231,\n        \"max\": 159209903062469.1,\n        \"num_unique_values\": 163,\n        \"samples\": [\n          23408993536462.01,\n          19025216192290.996,\n          54287743006870.25\n        ],\n        \"semantic_type\": \"\",\n        \"description\": \"\"\n      }\n    },\n    {\n      \"column\": \"x_9\",\n      \"properties\": {\n        \"dtype\": \"number\",\n        \"std\": 1100446100703184.5,\n        \"min\": 36186392678065.914,\n        \"max\": 9488910222523158.0,\n        \"num_unique_values\": 163,\n        \"samples\": [\n          1097881796860068.2,\n          869452379987698.6,\n          2828391410657940.0\n        ],\n        \"semantic_type\": \"\",\n        \"description\": \"\"\n      }\n    },\n    {\n      \"column\": \"x_10\",\n      \"properties\": {\n        \"dtype\": \"number\",\n        \"std\": 6.1044467830774104e+16,\n        \"min\": 1161583204965916.0,\n        \"max\": 5.655390492623802e+17,\n        \"num_unique_values\": 163,\n        \"samples\": [\n          5.14906562727372e+16,\n          3.973397376543783e+16,\n          1.473591924952787e+17\n        ],\n        \"semantic_type\": \"\",\n        \"description\": \"\"\n      }\n    }\n  ]\n}"
            }
          },
          "metadata": {},
          "execution_count": 32
        }
      ]
    },
    {
      "cell_type": "code",
      "source": [
        "X_train, X_test, y_train, y_test = train_test_split(X, y, test_size=0.25)\n",
        "lr_fit = lr.fit(X_train, y_train)\n",
        "lr_fit.coef_"
      ],
      "metadata": {
        "colab": {
          "base_uri": "https://localhost:8080/"
        },
        "id": "icpAYz8naTCZ",
        "outputId": "590ed58f-f184-4ccb-b6dd-87afabc0bf6a"
      },
      "execution_count": 33,
      "outputs": [
        {
          "output_type": "execute_result",
          "data": {
            "text/plain": [
              "array([-1.17267551e-09, -5.09021454e-08, -1.15209793e-06, -1.96105814e-05,\n",
              "       -1.83111835e-04,  1.76162072e-05, -6.85465804e-07,  1.34309958e-08,\n",
              "       -1.32035211e-10,  5.19684668e-13])"
            ]
          },
          "metadata": {},
          "execution_count": 33
        }
      ]
    },
    {
      "cell_type": "code",
      "source": [
        "y_pred_lr_train = lr_fit.predict(X_train)\n",
        "y_pred_lr_test = lr_fit.predict(X_test)\n",
        "y_pred10 = lr_fit.predict(X)"
      ],
      "metadata": {
        "id": "fb-zdZjUaXBd"
      },
      "execution_count": 34,
      "outputs": []
    },
    {
      "cell_type": "code",
      "source": [
        "r2_score(y_train, y_pred_lr_train)"
      ],
      "metadata": {
        "colab": {
          "base_uri": "https://localhost:8080/"
        },
        "id": "DBrb9bWPaa6A",
        "outputId": "5b2687ea-3e77-4aed-f8b4-f69709046e73"
      },
      "execution_count": 35,
      "outputs": [
        {
          "output_type": "execute_result",
          "data": {
            "text/plain": [
              "0.30415417165705727"
            ]
          },
          "metadata": {},
          "execution_count": 35
        }
      ]
    },
    {
      "cell_type": "code",
      "source": [
        "r2_score(y_test, y_pred_lr_test)"
      ],
      "metadata": {
        "colab": {
          "base_uri": "https://localhost:8080/"
        },
        "id": "jYu9ygZAaebG",
        "outputId": "a23e5728-ea27-4e8f-933d-c7e31cb25a9a"
      },
      "execution_count": 36,
      "outputs": [
        {
          "output_type": "execute_result",
          "data": {
            "text/plain": [
              "0.23326757331900405"
            ]
          },
          "metadata": {},
          "execution_count": 36
        }
      ]
    },
    {
      "cell_type": "code",
      "source": [
        "mean_squared_error(y_test, y_pred_lr_test)"
      ],
      "metadata": {
        "colab": {
          "base_uri": "https://localhost:8080/"
        },
        "id": "IysLw4NFaiVK",
        "outputId": "b3e1b7ca-cad2-4ad2-feef-258e6c08f224"
      },
      "execution_count": 37,
      "outputs": [
        {
          "output_type": "execute_result",
          "data": {
            "text/plain": [
              "3.3635419280733663"
            ]
          },
          "metadata": {},
          "execution_count": 37
        }
      ]
    },
    {
      "cell_type": "code",
      "source": [
        "mean_squared_error(y_train, lr_fit.predict(X_train))"
      ],
      "metadata": {
        "colab": {
          "base_uri": "https://localhost:8080/"
        },
        "id": "7D6g4sgVai_S",
        "outputId": "92a4356a-6b0f-4da8-9455-0cb8039f1712"
      },
      "execution_count": 38,
      "outputs": [
        {
          "output_type": "execute_result",
          "data": {
            "text/plain": [
              "2.566777408043323"
            ]
          },
          "metadata": {},
          "execution_count": 38
        }
      ]
    },
    {
      "cell_type": "markdown",
      "source": [
        "* Are any of the models above underfitting the data? If so, which ones and how can you tell?\n",
        "* Are any of thhe models above overfitting the data? If so, which ones and how can you tell?\n",
        "* Which of the above models do you think fits the data best and why?"
      ],
      "metadata": {
        "id": "Ph3lo8ExLSTG"
      }
    },
    {
      "cell_type": "markdown",
      "source": [
        "The degree 10 polynomial model is overfitting the data because the train MSE is way better than the test MSE.\n",
        "\n",
        "The simple linear regression model is underfit because the R - squared value is very low (0.05)\n",
        "\n",
        "Based on all of the model's test and train MSE, the simple linear regression model is the best because it has the smallest difference."
      ],
      "metadata": {
        "id": "q3H5LPH6K7x-"
      }
    },
    {
      "cell_type": "markdown",
      "source": [
        "Plotting...\n",
        "Make predictions for each model and plot your fitted models on the scatterplot."
      ],
      "metadata": {
        "id": "91_f22LDcuiR"
      }
    },
    {
      "cell_type": "code",
      "source": [
        "#import ggplot\n",
        "from plotnine import *"
      ],
      "metadata": {
        "id": "N81sjEy3d3s7"
      },
      "execution_count": 39,
      "outputs": []
    },
    {
      "cell_type": "code",
      "source": [
        "(\n",
        "    ggplot(pen, aes(x='bill_length_mm', y='bill_depth_mm')) +\n",
        "    geom_point() +\n",
        "    labs(x='Bill Length (mm)', y='Bill Depth (mm)') +\n",
        "    geom_line(aes(y=y_pred1), color='red')\n",
        "     +\n",
        "    geom_line(aes(y=y_pred2), color='blue') +\n",
        "   geom_line(aes(y=y_pred3), color='green')+\n",
        "    geom_line(aes(y=y_pred10), color='orange')\n",
        ")\n"
      ],
      "metadata": {
        "colab": {
          "base_uri": "https://localhost:8080/",
          "height": 497
        },
        "id": "kYOkgSWZcvwo",
        "outputId": "bce837e8-62d1-4802-e4ab-96565ab30ab1"
      },
      "execution_count": 41,
      "outputs": [
        {
          "output_type": "display_data",
          "data": {
            "image/png": "[encoded data removed]"
          },
          "metadata": {
            "image/png": {
              "width": 640,
              "height": 480
            }
          }
        }
      ]
    }
  ]
}